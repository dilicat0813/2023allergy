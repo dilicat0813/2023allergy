{
 "cells": [
  {
   "cell_type": "code",
   "execution_count": 22,
   "metadata": {},
   "outputs": [],
   "source": [
    "import pandas as pd\n",
    "import numpy as np\n",
    "import re \n",
    "from hanspell import spell_checker\n",
    "import json\n",
    "pd.set_option('display.max_rows', None)\n",
    "pd.set_option('display.max_colwidth', None)"
   ]
  },
  {
   "cell_type": "code",
   "execution_count": 2,
   "metadata": {},
   "outputs": [],
   "source": [
    "df1 = pd.read_csv('data/data_total.csv')\n",
    "df_allergy = df1[['rnum','rawmtrl','allergy']]\n",
    "df_allergy = pd.DataFrame(df_allergy)\n",
    "df_allergy = df_allergy.fillna('알수없음')"
   ]
  },
  {
   "attachments": {},
   "cell_type": "markdown",
   "metadata": {},
   "source": [
    "## 데이터 클리닝"
   ]
  },
  {
   "cell_type": "code",
   "execution_count": 3,
   "metadata": {},
   "outputs": [],
   "source": [
    "#치명적 오탈자 교체\n",
    "df_allergy['allergy'] = df_allergy['allergy'].str.replace('복훙아', '복숭아')\n",
    "df_allergy['allergy'] = df_allergy['allergy'].str.replace('함유식품', '')\n",
    "df_allergy['allergy'] = df_allergy['allergy'].str.replace('식품', '')\n",
    "df_allergy['allergy'] = df_allergy['allergy'].str.replace(' 함유', '')\n",
    "df_allergy['allergy'] = df_allergy['allergy'].str.replace('함유', '')\n",
    "df_allergy['allergy'] = df_allergy['allergy'].str.replace('함류', '')\n",
    "df_allergy['allergy'] = df_allergy['allergy'].str.replace('포함', '')\n",
    "df_allergy['allergy'] = df_allergy['allergy'].str.replace('소고기', '쇠고기')\n",
    "df_allergy['allergy'] = df_allergy['allergy'].str.replace('괘지', '돼지')\n",
    "df_allergy['allergy'] = df_allergy['allergy'].str.replace('돼고기', '돼지고기')\n",
    "df_allergy['allergy'] = df_allergy['allergy'].str.replace('오지엉', '오징어')\n",
    "df_allergy['allergy'] = df_allergy['allergy'].str.replace('날류','난류')\n",
    "df_allergy['allergy'] = df_allergy['allergy'].str.replace('유우','우유')\n",
    "df_allergy['allergy'] = df_allergy['allergy'].str.replace('유유','우유')\n",
    "df_allergy['allergy'] = df_allergy['allergy'].str.replace('우류','우유')\n",
    "df_allergy['allergy'] = df_allergy['allergy'].str.replace('탕콩','땅콩')\n",
    "df_allergy['allergy'] = df_allergy['allergy'].str.replace('대듀','대두')\n",
    "df_allergy['allergy'] = df_allergy['allergy'].str.replace('토마투','토마토')\n",
    "df_allergy['allergy'] = df_allergy['allergy'].str.replace('토마도','토마토')\n",
    "df_allergy['allergy'] = df_allergy['allergy'].str.replace('토미토','토마토')\n",
    "df_allergy['allergy'] = df_allergy['allergy'].str.replace('이황산류', '아황산류')\n",
    "df_allergy['allergy'] = df_allergy['allergy'].str.replace('이황산','아황산')\n",
    "df_allergy['allergy'] = df_allergy['allergy'].str.replace('이산화항','이산화황')\n",
    "df_allergy['allergy'] = df_allergy['allergy'].str.replace('아산화류', '아황산류')\n",
    "df_allergy['allergy'] = df_allergy['allergy'].str.replace('아산화','이산화')\n",
    "df_allergy['allergy'] = df_allergy['allergy'].str.replace('아산화항','이산화황')\n",
    "df_allergy['allergy'] = df_allergy['allergy'].str.replace('쇠구기','쇠고기')\n",
    "df_allergy['allergy'] = df_allergy['allergy'].str.replace('·',' ')\n",
    "df_allergy['allergy'] = df_allergy['allergy'].str.replace('토마','토마토')\n",
    "df_allergy['allergy'] = df_allergy['allergy'].str.replace('토마토토','토마토')\n",
    "df_allergy['allergy'] = df_allergy['allergy'].str.replace('게란','계란')\n",
    "df_allergy.loc[14737, 'allergy'] = '밀, 대두, 계란, 우유, 게, 오징어, 새우, 쇠고기, 조개류'\n",
    "df_allergy['allergy'] = df_allergy['allergy'].str.replace('닭괴','닭고기')\n",
    "df_allergy['allergy'] = df_allergy['allergy'].str.replace('쇠소기','쇠고기')\n",
    "df_allergy['allergy'] = df_allergy['allergy'].str.replace('호도','호두')\n",
    "df_allergy['allergy'] = df_allergy['allergy'].str.replace('조래규','조개류')\n",
    "df_allergy['allergy'] = df_allergy['allergy'].str.replace('굴','조개류')\n",
    "df_allergy['allergy'] = df_allergy['allergy'].str.replace('홍합','조개류')\n",
    "df_allergy['allergy'] = df_allergy['allergy'].str.replace('바지락','조개류')\n",
    "df_allergy['allergy'] = df_allergy['allergy'].str.replace('백합','조개류') \n",
    "df_allergy['allergy'] = df_allergy['allergy'].str.replace('전복','조개류') \n",
    "df_allergy['allergy'] = df_allergy['allergy'].str.replace('등','') "
   ]
  },
  {
   "cell_type": "code",
   "execution_count": 4,
   "metadata": {},
   "outputs": [],
   "source": [
    "#조개류 통일\n",
    "pattern = r'조개류\\([^\\)]+\\)'\n",
    "df_allergy['allergy'] = [re.sub(pattern, '조개류', s) for s in df_allergy['allergy']]\n",
    "df_allergy['allergy'] = [re.sub(pattern, '조개류', s) for s in df_allergy['allergy']]"
   ]
  },
  {
   "attachments": {},
   "cell_type": "markdown",
   "metadata": {},
   "source": [
    "### 맞춤법 (오탈자 늘어나는 기적)"
   ]
  },
  {
   "cell_type": "code",
   "execution_count": 5,
   "metadata": {},
   "outputs": [],
   "source": [
    "# pattern = '[^ㄱ-ㅎㅏ-ㅣ가-힣()[\\],]+' # 한글, 괄호, 대괄호, 쉼표, 마침표를 제외한 모든 문자 삭제 (정규화)\n",
    "# df_allergy['rawmtrl_normalize'] = df_allergy['rawmtrl'].apply(lambda x: re.sub(pattern, ' ', x))\n",
    "\n",
    "# # rawmtrl 맞춤법 검사 --> 오타가 있음(소백분 같은 경우)\n",
    "# # 우선 정규화를 먼저 진행하고, 그다음에 진행\n",
    "\n",
    "# df_allergy['rawmtrl_checked'] = \"\"\n",
    "# datas = df_allergy['rawmtrl_normalize'] \n",
    "# for i, n in enumerate(datas):\n",
    "#     try: \n",
    "#         input = n #&가 있으면 xml 문자열에서 에러를 일으킴\n",
    "#         result = spell_checker.check(input)\n",
    "#         result_dict = result.as_dict()\n",
    "#         df_allergy.at[i, 'rawmtrl_checked'] = result_dict['checked']\n",
    "#     except: #오류 발생하는 특정한 애들이 있는데, 왜 오류가 발생하는지 잘 모르겠음...\n",
    "#         df_allergy.at[i, 'rawmtrl_checked'] = n + ''\n",
    "#         pass\n",
    "\n",
    "# #88분 걸림"
   ]
  },
  {
   "attachments": {},
   "cell_type": "markdown",
   "metadata": {},
   "source": [
    "## 딕셔너리 키값 반환"
   ]
  },
  {
   "cell_type": "code",
   "execution_count": 6,
   "metadata": {},
   "outputs": [],
   "source": [
    "# allergy_dict 미리 정의\n",
    "allergy_dict = {1: ['알류', '계란', '달걀', '난류','메추리알','추리알','난각','날류','난백','난황','난각','게란','전란','흰자','노른자'], \n",
    "                2: ['우유','유우', '탈지분유','유유','분유','유청','카제인','우류','가공버터','유크림','크림','유청','치즈','원유', '요구르트', '요거트','유당','아이스크림','연유','농축유' ], \n",
    "                3: ['메밀'], \n",
    "                4: ['땅콩', '탕콩', '피넛'],\n",
    "                5: ['대두','두부','콩','유부','된장','대두유','대두단백','레시틴',''], \n",
    "                6: ['밀','밀가루','소맥','소맥분', '밀제품'], \n",
    "                7: ['고등어'], \n",
    "                8: ['게'], \n",
    "                9: ['새우'], \n",
    "                10: ['돼지','돈','돼지고기','괘지','괘지고기','돼고기','돈창', '돈혈', '돈지방','괘','젤라틴','돈육','순대'],\n",
    "                11: ['복숭아','황도','백도','천도'], \n",
    "                12: ['토마토', '토마투','토마도','토마','토미토'],\n",
    "                13: ['아황산', '아황산나트륨', '이황산', '이산화', '아산화', '이산화황','아산화황','이산화항','이황산류'],\n",
    "                14: ['호두','호도','월넛'], \n",
    "                15: ['닭', '닭고기', '계육','닭괴','치킨','닭다리', '닭정육', '계정육', '닭가슴살', '닭안심'], \n",
    "                16: ['쇠고기', '우육', '소고기', '소뼈','쇠구기', '한우', '우정육', '소정육','소뼈','소잡뼈','우골','소갈비','소내장','소창자','우지','소기름','소안심','소등심'], \n",
    "                17: ['오징어'],\n",
    "                18: ['조개류','굴','홍합','조개','백합','바지락','전복'], \n",
    "                19: ['잣'],\n",
    "                #20: ['아몬드','헤이즐넛','참깨','피칸'],\n",
    "                #21: ['페닐알라닌']\n",
    "                }"
   ]
  },
  {
   "cell_type": "code",
   "execution_count": 7,
   "metadata": {},
   "outputs": [],
   "source": [
    "df = df_allergy[['rawmtrl','allergy']]"
   ]
  },
  {
   "cell_type": "code",
   "execution_count": 8,
   "metadata": {},
   "outputs": [
    {
     "data": {
      "text/plain": [
       "'조개류\\\\([^\\\\)]+\\\\)'"
      ]
     },
     "execution_count": 8,
     "metadata": {},
     "output_type": "execute_result"
    }
   ],
   "source": [
    "pattern"
   ]
  },
  {
   "cell_type": "code",
   "execution_count": 9,
   "metadata": {},
   "outputs": [],
   "source": [
    "\n",
    "# allergy_dict의 모든 값을 '|'로 연결하여 정규식 패턴을 만듭니다.\n",
    "pattern = '|'.join(sum(allergy_dict.values(), []))\n",
    "\n",
    "# df['rawmtrl']의 문자열에서 pattern과 일치하는 부분을 찾습니다.\n",
    "# 결과는 True/False 값을 가지는 데이터프레임 형태로 반환됩니다.\n",
    "matches = df['rawmtrl'].str.contains(pattern, flags=re.IGNORECASE, regex=True)\n",
    "\n",
    "# 결과를 저장할 빈 리스트를 만듭니다.\n",
    "result = [[] for _ in range(len(df))]\n",
    "\n",
    "# matches 데이터프레임의 각 행에 대해서\n",
    "for i, row in matches.iteritems():\n",
    "    # True인 경우\n",
    "    if row:\n",
    "        # 해당 행의 rawmtrl 문자열에서 pattern과 일치하는 모든 단어를 찾아서\n",
    "        # 그 결과를 리스트로 만듭니다.\n",
    "        words = re.findall(pattern, df.at[i, 'rawmtrl'], flags=re.IGNORECASE)\n",
    "        \n",
    "        # 각 단어에 대해서\n",
    "        for word in words:\n",
    "            # allergy_dict에서 해당 단어를 포함하는 키를 찾아서\n",
    "            for key, values in allergy_dict.items():\n",
    "                if word.lower() in [v.lower() for v in values]:\n",
    "                    # 해당 키를 result 리스트에 추가합니다.\n",
    "                    result[i].append(key)\n",
    "\n",
    "# 결과 리스트에서 중복된 값을 제거합니다.\n",
    "result = [list(set(r)) for r in result]\n",
    "\n",
    "# 결과를 새로운 칼럼으로 추가합니다.\n",
    "df['allergens'] = result"
   ]
  },
  {
   "cell_type": "code",
   "execution_count": 10,
   "metadata": {},
   "outputs": [],
   "source": [
    "\n",
    "# allergy_dict의 모든 값을 '|'로 연결하여 정규식 패턴을 만듭니다.\n",
    "pattern = '|'.join(sum(allergy_dict.values(), []))\n",
    "\n",
    "# df['rawmtrl']의 문자열에서 pattern과 일치하는 부분을 찾습니다.\n",
    "# 결과는 True/False 값을 가지는 데이터프레임 형태로 반환됩니다.\n",
    "matches = df['allergy'].str.contains(pattern, flags=re.IGNORECASE, regex=True)\n",
    "\n",
    "# 결과를 저장할 빈 리스트를 만듭니다.\n",
    "result = [[] for _ in range(len(df))]\n",
    "\n",
    "# matches 데이터프레임의 각 행에 대해서\n",
    "for i, row in matches.iteritems():\n",
    "    # True인 경우\n",
    "    if row:\n",
    "        # 해당 행의 rawmtrl 문자열에서 pattern과 일치하는 모든 단어를 찾아서\n",
    "        # 그 결과를 리스트로 만듭니다.\n",
    "        words = re.findall(pattern, df.at[i, 'allergy'], flags=re.IGNORECASE)\n",
    "        \n",
    "        # 각 단어에 대해서\n",
    "        for word in words:\n",
    "            # allergy_dict에서 해당 단어를 포함하는 키를 찾아서\n",
    "            for key, values in allergy_dict.items():\n",
    "                if word.lower() in [v.lower() for v in values]:\n",
    "                    # 해당 키를 result 리스트에 추가합니다.\n",
    "                    result[i].append(key)\n",
    "\n",
    "# 결과 리스트에서 중복된 값을 제거합니다.\n",
    "result = [list(set(r)) for r in result]\n",
    "\n",
    "# 결과를 새로운 칼럼으로 추가합니다.\n",
    "df['allergens2'] = result"
   ]
  },
  {
   "cell_type": "code",
   "execution_count": 11,
   "metadata": {},
   "outputs": [],
   "source": [
    "df['allergens'] = df['allergens'].apply(lambda x: ','.join(map(str, x)))\n",
    "df['allergens2'] = df['allergens2'].apply(lambda x: ','.join(map(str, x)))\n"
   ]
  },
  {
   "cell_type": "code",
   "execution_count": 12,
   "metadata": {},
   "outputs": [],
   "source": [
    "df['num_sum'] = df['allergens']+','+df['allergens2']\n",
    "def remove_duplicates(str_nums):\n",
    "    nums = set(str_nums.split(','))\n",
    "    nums.discard('')\n",
    "    return ','.join(sorted(nums))\n",
    "\n",
    "#df_allergy['num_sum'] = df_allergy['num_sum'].apply(remove_duplicates)\n",
    "df['num_sum'] = df['num_sum'].apply(remove_duplicates)\n",
    "\n",
    "allergy_dict = {1: '난류(가금류)', 2: '우유', 3: '메밀', 4: '땅콩', 5: '대두', 6: '밀', 7: '고등어', 8: '게', 9: '새우', 10: '돼지고기', 11: '복숭아', 12: '토마토', 13: '아황산류', 14: '호두', 15: '닭고기', 16: '쇠고기', 17: '오징어', 18: '조개류', 19: '잣'}  #, 20:'견과류', 21:'페닐알라닌'} 삭제\n",
    "\n",
    "def convert_to_allergy(num_str):\n",
    "    num_list = num_str.split(',')\n",
    "    allergy_list = []\n",
    "    for num in num_list:\n",
    "        if num.strip() == '':\n",
    "            continue\n",
    "        allergy_list.append(allergy_dict[int(num)])\n",
    "    return ','.join(allergy_list)\n",
    "\n",
    "#df_allergy['new_allergy'] = df_allergy['num_sum'].apply(convert_to_allergy)\n",
    "df['new_allergy'] = df['num_sum'].apply(convert_to_allergy)"
   ]
  },
  {
   "cell_type": "code",
   "execution_count": 25,
   "metadata": {},
   "outputs": [
    {
     "data": {
      "text/html": [
       "<div>\n",
       "<style scoped>\n",
       "    .dataframe tbody tr th:only-of-type {\n",
       "        vertical-align: middle;\n",
       "    }\n",
       "\n",
       "    .dataframe tbody tr th {\n",
       "        vertical-align: top;\n",
       "    }\n",
       "\n",
       "    .dataframe thead th {\n",
       "        text-align: right;\n",
       "    }\n",
       "</style>\n",
       "<table border=\"1\" class=\"dataframe\">\n",
       "  <thead>\n",
       "    <tr style=\"text-align: right;\">\n",
       "      <th></th>\n",
       "      <th>rawmtrl</th>\n",
       "      <th>allergy</th>\n",
       "      <th>allergens</th>\n",
       "      <th>allergens2</th>\n",
       "      <th>num_sum</th>\n",
       "      <th>new_allergy</th>\n",
       "    </tr>\n",
       "  </thead>\n",
       "  <tbody>\n",
       "    <tr>\n",
       "      <th>6592</th>\n",
       "      <td>프리미엄치즈54%[모자렐라치즈(프랑스,독일,미국,호주),렌넷카제인,정제팜유(말레이시아),전분,식염],동화건조빵가루[소맥분(밀:미국산,호주산),쇼트닝{정제팜유(말레이시아산),천연토코페롤},포도당,이스트,정제소금(국산),대두분],고소한빵가루배합용[밀가루(밀:미국산,호주산),생이스트,정제소금(국산),이스트후드(황산칼슘,정제염,황산암모늄,염화암모늄,비타민씨)],제이에이치배터씨에스[박력분,정제소금,무수결정포도당,L-글루타민산나트륨(향미증진제),정백당],난백액,정제수</td>\n",
       "      <td>밀, 계란, 우유, 대두</td>\n",
       "      <td>1,2,5,6</td>\n",
       "      <td>1,2,5,6</td>\n",
       "      <td>1,2,5,6</td>\n",
       "      <td>난류(가금류),우유,대두,밀</td>\n",
       "    </tr>\n",
       "    <tr>\n",
       "      <th>8182</th>\n",
       "      <td>청포도과즙농축액(청포도과즙으로2%,미국산),정제수,백설탕,요구르트베이스[탈지분유(국산,우유),백설탕,구연산,유산균],구연산,펙틴,합성착향료(청포도향,시트러스향),자일리톨0.1%,구연산나트륨,비타민C,자당지방산에스테르,수크랄로스(합성감미료),아세설팜칼륨(합성감미료)</td>\n",
       "      <td>알수없음</td>\n",
       "      <td>2</td>\n",
       "      <td></td>\n",
       "      <td>2</td>\n",
       "      <td>우유</td>\n",
       "    </tr>\n",
       "    <tr>\n",
       "      <th>7742</th>\n",
       "      <td>국내산 돈육100%</td>\n",
       "      <td>알수없음</td>\n",
       "      <td>10</td>\n",
       "      <td></td>\n",
       "      <td>10</td>\n",
       "      <td>돼지고기</td>\n",
       "    </tr>\n",
       "    <tr>\n",
       "      <th>11328</th>\n",
       "      <td>정제수,액상과당,백설탕,이산화탄소,구연산,레몬라임향</td>\n",
       "      <td>알수없음</td>\n",
       "      <td>13</td>\n",
       "      <td></td>\n",
       "      <td>13</td>\n",
       "      <td>아황산류</td>\n",
       "    </tr>\n",
       "    <tr>\n",
       "      <th>87</th>\n",
       "      <td>한우앞다리100%</td>\n",
       "      <td>쇠고기</td>\n",
       "      <td>16</td>\n",
       "      <td>16</td>\n",
       "      <td>16</td>\n",
       "      <td>쇠고기</td>\n",
       "    </tr>\n",
       "  </tbody>\n",
       "</table>\n",
       "</div>"
      ],
      "text/plain": [
       "                                                                                                                                                                                                                                                                 rawmtrl  \\\n",
       "6592   프리미엄치즈54%[모자렐라치즈(프랑스,독일,미국,호주),렌넷카제인,정제팜유(말레이시아),전분,식염],동화건조빵가루[소맥분(밀:미국산,호주산),쇼트닝{정제팜유(말레이시아산),천연토코페롤},포도당,이스트,정제소금(국산),대두분],고소한빵가루배합용[밀가루(밀:미국산,호주산),생이스트,정제소금(국산),이스트후드(황산칼슘,정제염,황산암모늄,염화암모늄,비타민씨)],제이에이치배터씨에스[박력분,정제소금,무수결정포도당,L-글루타민산나트륨(향미증진제),정백당],난백액,정제수   \n",
       "8182                                                                                                                 청포도과즙농축액(청포도과즙으로2%,미국산),정제수,백설탕,요구르트베이스[탈지분유(국산,우유),백설탕,구연산,유산균],구연산,펙틴,합성착향료(청포도향,시트러스향),자일리톨0.1%,구연산나트륨,비타민C,자당지방산에스테르,수크랄로스(합성감미료),아세설팜칼륨(합성감미료)   \n",
       "7742                                                                                                                                                                                                                                                          국내산 돈육100%   \n",
       "11328                                                                                                                                                                                                                                       정제수,액상과당,백설탕,이산화탄소,구연산,레몬라임향   \n",
       "87                                                                                                                                                                                                                                                             한우앞다리100%   \n",
       "\n",
       "             allergy allergens allergens2  num_sum      new_allergy  \n",
       "6592   밀, 계란, 우유, 대두   1,2,5,6    1,2,5,6  1,2,5,6  난류(가금류),우유,대두,밀  \n",
       "8182            알수없음         2                   2               우유  \n",
       "7742            알수없음        10                  10             돼지고기  \n",
       "11328           알수없음        13                  13             아황산류  \n",
       "87               쇠고기        16         16       16              쇠고기  "
      ]
     },
     "execution_count": 25,
     "metadata": {},
     "output_type": "execute_result"
    }
   ],
   "source": [
    "df.sample(5)"
   ]
  }
 ],
 "metadata": {
  "kernelspec": {
   "display_name": "Python 3",
   "language": "python",
   "name": "python3"
  },
  "language_info": {
   "codemirror_mode": {
    "name": "ipython",
    "version": 3
   },
   "file_extension": ".py",
   "mimetype": "text/x-python",
   "name": "python",
   "nbconvert_exporter": "python",
   "pygments_lexer": "ipython3",
   "version": "3.10.10"
  },
  "orig_nbformat": 4
 },
 "nbformat": 4,
 "nbformat_minor": 2
}
