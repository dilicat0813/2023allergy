{
 "cells": [
  {
   "cell_type": "code",
   "execution_count": 2,
   "metadata": {},
   "outputs": [],
   "source": [
    "from urllib.request import Request, urlopen\n",
    "from urllib.parse import urlencode, quote_plus\n",
    "import pandas as pd\n",
    "from pandas.io.json import json_normalize\n",
    "import json"
   ]
  },
  {
   "cell_type": "code",
   "execution_count": 21,
   "metadata": {},
   "outputs": [
    {
     "name": "stderr",
     "output_type": "stream",
     "text": [
      "C:\\Users\\mkh08\\AppData\\Local\\Temp\\ipykernel_28612\\1348014537.py:10: FutureWarning: pandas.io.json.json_normalize is deprecated, use pandas.json_normalize instead\n",
      "  df = df.append(json_normalize(data_list), ignore_index=True)\n",
      "C:\\Users\\mkh08\\AppData\\Local\\Temp\\ipykernel_28612\\1348014537.py:11: FutureWarning: pandas.io.json.json_normalize is deprecated, use pandas.json_normalize instead\n",
      "  df1 = df1.append(json_normalize(data_list), ignore_index=True)\n"
     ]
    }
   ],
   "source": [
    "#2023sus 1/4\n",
    "df = pd.DataFrame()  # Create an empty DataFrame to store the results\n",
    "df1 = pd.DataFrame() \n",
    "for page in range(1, 243):  # Iterate over all 24126 items (100 items per page, so 242 pages)\n",
    "    url = f\"https://api.odcloud.kr/api/3040719/v1/uddi:d8b66ec2-ab19-47c3-bd6e-883c961885f5?page={page}&perPage=100&returnType=JSON&serviceKey=SDqWmmlSMlsBobBnB0DwlV9IVwFkxNwn42%2BKrK%2F5WMV0AxecYPKMJ2tAurfLvCGOt2hvyBLvi9oG7R%2Bn%2FG4ZUA%3D%3D\"\n",
    "    response = urlopen(url)\n",
    "    json_api = response.read().decode(\"utf-8\")\n",
    "    json_file = json.loads(json_api)\n",
    "    data_list = json_file['data']\n",
    "    df = df.append(json_normalize(data_list), ignore_index=True)\n",
    "    df1 = df1.append(json_normalize(data_list), ignore_index=True)\n",
    "# df_sorted = df.sort_values('접수일', ascending=True)\n",
    "# df_sorted\n",
    "df1.to_csv('data/소보원데이터/알레르기_2023Q1.csv', index=False, encoding='utf-8-sig')\n",
    "df1.to_csv('data/소보원데이터/알레르기_2023Q1_backup.csv', index=False, encoding='utf-8')"
   ]
  },
  {
   "cell_type": "code",
   "execution_count": 22,
   "metadata": {},
   "outputs": [
    {
     "name": "stderr",
     "output_type": "stream",
     "text": [
      "C:\\Users\\mkh08\\AppData\\Local\\Temp\\ipykernel_28612\\1996006333.py:9: FutureWarning: pandas.io.json.json_normalize is deprecated, use pandas.json_normalize instead\n",
      "  df = df.append(json_normalize(data_list), ignore_index=True)\n",
      "C:\\Users\\mkh08\\AppData\\Local\\Temp\\ipykernel_28612\\1996006333.py:10: FutureWarning: pandas.io.json.json_normalize is deprecated, use pandas.json_normalize instead\n",
      "  df1 = df1.append(json_normalize(data_list), ignore_index=True)\n"
     ]
    },
    {
     "name": "stdout",
     "output_type": "stream",
     "text": [
      "189225 12508\n"
     ]
    }
   ],
   "source": [
    "#2022 4/4\n",
    "df1 = pd.DataFrame() \n",
    "for page in range(1, 127):  # Iterate over all 24126 items (100 items per page, so 242 pages)\n",
    "    url = f\"https://api.odcloud.kr/api/3040719/v1/uddi:ae040a91-52c0-4d06-9b8c-e38a849bb4c0?page={page}&perPage=100&serviceKey=SDqWmmlSMlsBobBnB0DwlV9IVwFkxNwn42%2BKrK%2F5WMV0AxecYPKMJ2tAurfLvCGOt2hvyBLvi9oG7R%2Bn%2FG4ZUA%3D%3D\"\n",
    "    response = urlopen(url)\n",
    "    json_api = response.read().decode(\"utf-8\")\n",
    "    json_file = json.loads(json_api)\n",
    "    data_list = json_file['data']\n",
    "    df = df.append(json_normalize(data_list), ignore_index=True)\n",
    "    df1 = df1.append(json_normalize(data_list), ignore_index=True)\n",
    "#12508\n",
    "df1.tail()\n",
    "length = length+len(df1)\n",
    "print(length,len(df1))\n",
    "df1.to_csv('data/소보원데이터/알레르기_2022Q4.csv', index=False, encoding='utf-8-sig')\n",
    "df1.to_csv('data/소보원데이터/알레르기_2022Q4_backup.csv', index=False, encoding='utf-8')"
   ]
  },
  {
   "cell_type": "code",
   "execution_count": 23,
   "metadata": {},
   "outputs": [
    {
     "name": "stderr",
     "output_type": "stream",
     "text": [
      "C:\\Users\\mkh08\\AppData\\Local\\Temp\\ipykernel_28612\\2974269269.py:9: FutureWarning: pandas.io.json.json_normalize is deprecated, use pandas.json_normalize instead\n",
      "  df = df.append(json_normalize(data_list), ignore_index=True)\n",
      "C:\\Users\\mkh08\\AppData\\Local\\Temp\\ipykernel_28612\\2974269269.py:10: FutureWarning: pandas.io.json.json_normalize is deprecated, use pandas.json_normalize instead\n",
      "  df1 = df1.append(json_normalize(data_list), ignore_index=True)\n"
     ]
    },
    {
     "name": "stdout",
     "output_type": "stream",
     "text": [
      "211243 22018\n"
     ]
    }
   ],
   "source": [
    "#2022 3/4\n",
    "df1 = pd.DataFrame()  # Create an empty DataFrame to store the results\n",
    "for page in range(1, 222):  # Iterate over all 24126 items (100 items per page, so 242 pages)\n",
    "    url = f\"https://api.odcloud.kr/api/3040719/v1/uddi:6485a24f-6f78-4f06-a093-da7bb91768cf?page={page}&perPage=100&serviceKey=SDqWmmlSMlsBobBnB0DwlV9IVwFkxNwn42%2BKrK%2F5WMV0AxecYPKMJ2tAurfLvCGOt2hvyBLvi9oG7R%2Bn%2FG4ZUA%3D%3D\"\n",
    "    response = urlopen(url)\n",
    "    json_api = response.read().decode(\"utf-8\")\n",
    "    json_file = json.loads(json_api)\n",
    "    data_list = json_file['data']\n",
    "    df = df.append(json_normalize(data_list), ignore_index=True)\n",
    "    df1 = df1.append(json_normalize(data_list), ignore_index=True)\n",
    "\n",
    "df1.tail()\n",
    "#22018\n",
    "length = length+len(df1)\n",
    "print(length,len(df1))\n",
    "df1.to_csv('data/소보원데이터/알레르기_2022Q3.csv', index=False, encoding='utf-8-sig')\n",
    "df1.to_csv('data/소보원데이터/알레르기_2022Q3_backup.csv', index=False, encoding='utf-8')"
   ]
  },
  {
   "cell_type": "code",
   "execution_count": 24,
   "metadata": {},
   "outputs": [
    {
     "name": "stderr",
     "output_type": "stream",
     "text": [
      "C:\\Users\\mkh08\\AppData\\Local\\Temp\\ipykernel_28612\\883949373.py:9: FutureWarning: pandas.io.json.json_normalize is deprecated, use pandas.json_normalize instead\n",
      "  df = df.append(json_normalize(data_list), ignore_index=True)\n",
      "C:\\Users\\mkh08\\AppData\\Local\\Temp\\ipykernel_28612\\883949373.py:10: FutureWarning: pandas.io.json.json_normalize is deprecated, use pandas.json_normalize instead\n",
      "  df1 = df1.append(json_normalize(data_list), ignore_index=True)\n"
     ]
    },
    {
     "name": "stdout",
     "output_type": "stream",
     "text": [
      "233959 22716\n"
     ]
    }
   ],
   "source": [
    "#2022 2/4\n",
    "df1 = pd.DataFrame()  # Create an empty DataFrame to store the results\n",
    "for page in range(1, 229):  # Iterate over all 24126 items (100 items per page, so 242 pages)\n",
    "    url = f\"https://api.odcloud.kr/api/3040719/v1/uddi:8ec97038-5f23-4c15-a24b-ca7b9cc69f8e?page={page}&perPage=100&serviceKey=SDqWmmlSMlsBobBnB0DwlV9IVwFkxNwn42%2BKrK%2F5WMV0AxecYPKMJ2tAurfLvCGOt2hvyBLvi9oG7R%2Bn%2FG4ZUA%3D%3D\"\n",
    "    response = urlopen(url)\n",
    "    json_api = response.read().decode(\"utf-8\")\n",
    "    json_file = json.loads(json_api)\n",
    "    data_list = json_file['data']\n",
    "    df = df.append(json_normalize(data_list), ignore_index=True)\n",
    "    df1 = df1.append(json_normalize(data_list), ignore_index=True)\n",
    "#22716\n",
    "df1.tail()\n",
    "length = length+len(df1)\n",
    "print(length,len(df1))\n",
    "df1.to_csv('data/소보원데이터/알레르기_2022Q2.csv', index=False, encoding='utf-8-sig')\n",
    "df1.to_csv('data/소보원데이터/알레르기_2022Q2_backup.csv', index=False, encoding='utf-8')"
   ]
  },
  {
   "cell_type": "code",
   "execution_count": 25,
   "metadata": {},
   "outputs": [
    {
     "name": "stderr",
     "output_type": "stream",
     "text": [
      "C:\\Users\\mkh08\\AppData\\Local\\Temp\\ipykernel_28612\\2450305332.py:10: FutureWarning: pandas.io.json.json_normalize is deprecated, use pandas.json_normalize instead\n",
      "  df = df.append(json_normalize(data_list), ignore_index=True)\n",
      "C:\\Users\\mkh08\\AppData\\Local\\Temp\\ipykernel_28612\\2450305332.py:11: FutureWarning: pandas.io.json.json_normalize is deprecated, use pandas.json_normalize instead\n",
      "  df1 = df1.append(json_normalize(data_list), ignore_index=True)\n"
     ]
    },
    {
     "name": "stdout",
     "output_type": "stream",
     "text": [
      "255308 21349\n"
     ]
    }
   ],
   "source": [
    "#2022 1/4\n",
    "df1 = pd.DataFrame()  # Create an empty DataFrame to store the results\n",
    "\n",
    "for page in range(1, 215):  # Iterate over all 24126 items (100 items per page, so 242 pages)\n",
    "    url = f\"https://api.odcloud.kr/api/3040719/v1/uddi:31ac447c-dccd-4db7-998d-edd0136690e7?page={page}&perPage=100&serviceKey=SDqWmmlSMlsBobBnB0DwlV9IVwFkxNwn42%2BKrK%2F5WMV0AxecYPKMJ2tAurfLvCGOt2hvyBLvi9oG7R%2Bn%2FG4ZUA%3D%3D\"\n",
    "    response = urlopen(url)\n",
    "    json_api = response.read().decode(\"utf-8\")\n",
    "    json_file = json.loads(json_api)\n",
    "    data_list = json_file['data']\n",
    "    df = df.append(json_normalize(data_list), ignore_index=True)\n",
    "    df1 = df1.append(json_normalize(data_list), ignore_index=True)\n",
    "#21349\n",
    "df1.tail()\n",
    "length = length+len(df1)\n",
    "print(length,len(df1))\n",
    "df1.to_csv('data/소보원데이터/알레르기_2022Q1.csv', index=False, encoding='utf-8-sig')\n",
    "df1.to_csv('data/소보원데이터/알레르기_2022Q1_backup.csv', index=False, encoding='utf-8')"
   ]
  },
  {
   "cell_type": "code",
   "execution_count": 26,
   "metadata": {},
   "outputs": [
    {
     "name": "stderr",
     "output_type": "stream",
     "text": [
      "C:\\Users\\mkh08\\AppData\\Local\\Temp\\ipykernel_28612\\3589748750.py:10: FutureWarning: pandas.io.json.json_normalize is deprecated, use pandas.json_normalize instead\n",
      "  df = df.append(json_normalize(data_list), ignore_index=True)\n",
      "C:\\Users\\mkh08\\AppData\\Local\\Temp\\ipykernel_28612\\3589748750.py:11: FutureWarning: pandas.io.json.json_normalize is deprecated, use pandas.json_normalize instead\n",
      "  df1 = df1.append(json_normalize(data_list), ignore_index=True)\n"
     ]
    },
    {
     "name": "stdout",
     "output_type": "stream",
     "text": [
      "273950 18642\n"
     ]
    }
   ],
   "source": [
    "#2021 4/4\n",
    "df1 = pd.DataFrame()  # Create an empty DataFrame to store the results\n",
    "#18642\n",
    "for page in range(1, 188):  # Iterate over all 24126 items (100 items per page, so 242 pages)\n",
    "    url = f\"https://api.odcloud.kr/api/3040719/v1/uddi:06685e15-7202-48e2-8611-abb2e43eb820?page={page}&perPage=100&serviceKey=SDqWmmlSMlsBobBnB0DwlV9IVwFkxNwn42%2BKrK%2F5WMV0AxecYPKMJ2tAurfLvCGOt2hvyBLvi9oG7R%2Bn%2FG4ZUA%3D%3D\"\n",
    "    response = urlopen(url)\n",
    "    json_api = response.read().decode(\"utf-8\")\n",
    "    json_file = json.loads(json_api)\n",
    "    data_list = json_file['data']\n",
    "    df = df.append(json_normalize(data_list), ignore_index=True)\n",
    "    df1 = df1.append(json_normalize(data_list), ignore_index=True)\n",
    "df1.tail()\n",
    "length = length+len(df1)\n",
    "print(length,len(df1))\n",
    "df1.to_csv('data/소보원데이터/알레르기_2021Q4.csv', index=False, encoding='utf-8-sig')\n",
    "df1.to_csv('data/소보원데이터/알레르기_2021Q4_backup.csv', index=False, encoding='utf-8')"
   ]
  },
  {
   "cell_type": "code",
   "execution_count": 27,
   "metadata": {},
   "outputs": [
    {
     "name": "stderr",
     "output_type": "stream",
     "text": [
      "C:\\Users\\mkh08\\AppData\\Local\\Temp\\ipykernel_28612\\4269925221.py:10: FutureWarning: pandas.io.json.json_normalize is deprecated, use pandas.json_normalize instead\n",
      "  df = df.append(json_normalize(data_list), ignore_index=True)\n",
      "C:\\Users\\mkh08\\AppData\\Local\\Temp\\ipykernel_28612\\4269925221.py:11: FutureWarning: pandas.io.json.json_normalize is deprecated, use pandas.json_normalize instead\n",
      "  df1 = df1.append(json_normalize(data_list), ignore_index=True)\n"
     ]
    },
    {
     "name": "stdout",
     "output_type": "stream",
     "text": [
      "298768 24818\n"
     ]
    }
   ],
   "source": [
    "#2021 3/4\n",
    "df1 = pd.DataFrame()  # Create an empty DataFrame to store the results\n",
    "#24818\n",
    "for page in range(1, 250):  # Iterate over all 24126 items (100 items per page, so 242 pages)\n",
    "    url = f\"https://api.odcloud.kr/api/3040719/v1/uddi:93fe0df3-2704-4f3a-9455-d0411d9467a6?page={page}&perPage=100&serviceKey=SDqWmmlSMlsBobBnB0DwlV9IVwFkxNwn42%2BKrK%2F5WMV0AxecYPKMJ2tAurfLvCGOt2hvyBLvi9oG7R%2Bn%2FG4ZUA%3D%3D\"\n",
    "    response = urlopen(url)\n",
    "    json_api = response.read().decode(\"utf-8\")\n",
    "    json_file = json.loads(json_api)\n",
    "    data_list = json_file['data']\n",
    "    df = df.append(json_normalize(data_list), ignore_index=True)\n",
    "    df1 = df1.append(json_normalize(data_list), ignore_index=True)\n",
    "df1.tail()\n",
    "length = length+len(df1)\n",
    "print(length,len(df1))\n",
    "df1.to_csv('data/소보원데이터/알레르기_2021Q3.csv', index=False, encoding='utf-8-sig')\n",
    "df1.to_csv('data/소보원데이터/알레르기_2021Q3_backup.csv', index=False, encoding='utf-8')"
   ]
  },
  {
   "cell_type": "code",
   "execution_count": 28,
   "metadata": {},
   "outputs": [
    {
     "name": "stderr",
     "output_type": "stream",
     "text": [
      "C:\\Users\\mkh08\\AppData\\Local\\Temp\\ipykernel_28612\\1628224593.py:10: FutureWarning: pandas.io.json.json_normalize is deprecated, use pandas.json_normalize instead\n",
      "  df = df.append(json_normalize(data_list), ignore_index=True)\n",
      "C:\\Users\\mkh08\\AppData\\Local\\Temp\\ipykernel_28612\\1628224593.py:11: FutureWarning: pandas.io.json.json_normalize is deprecated, use pandas.json_normalize instead\n",
      "  df1 = df1.append(json_normalize(data_list), ignore_index=True)\n"
     ]
    },
    {
     "name": "stdout",
     "output_type": "stream",
     "text": [
      "317853 19085\n"
     ]
    }
   ],
   "source": [
    "#2021 2/4\n",
    "df1 = pd.DataFrame()  # Create an empty DataFrame to store the results\n",
    "#19085 192\n",
    "for page in range(1, 192):  # Iterate over all 24126 items (100 items per page, so 242 pages)\n",
    "    url = f\"https://api.odcloud.kr/api/3040719/v1/uddi:df00cf82-37cd-4bf1-82e7-b4ab1ce51f19?page={page}&perPage=100&serviceKey=SDqWmmlSMlsBobBnB0DwlV9IVwFkxNwn42%2BKrK%2F5WMV0AxecYPKMJ2tAurfLvCGOt2hvyBLvi9oG7R%2Bn%2FG4ZUA%3D%3D\"\n",
    "    response = urlopen(url)\n",
    "    json_api = response.read().decode(\"utf-8\")\n",
    "    json_file = json.loads(json_api)\n",
    "    data_list = json_file['data']\n",
    "    df = df.append(json_normalize(data_list), ignore_index=True)\n",
    "    df1 = df1.append(json_normalize(data_list), ignore_index=True)\n",
    "df1.tail()\n",
    "length = length+len(df1)\n",
    "print(length,len(df1))\n",
    "df1.to_csv('data/소보원데이터/알레르기_2021Q2.csv', index=False, encoding='utf-8-sig')\n",
    "df1.to_csv('data/소보원데이터/알레르기_2021Q2_backup.csv', index=False, encoding='utf-8')"
   ]
  },
  {
   "cell_type": "code",
   "execution_count": 29,
   "metadata": {},
   "outputs": [
    {
     "name": "stderr",
     "output_type": "stream",
     "text": [
      "C:\\Users\\mkh08\\AppData\\Local\\Temp\\ipykernel_28612\\1200875724.py:10: FutureWarning: pandas.io.json.json_normalize is deprecated, use pandas.json_normalize instead\n",
      "  df = df.append(json_normalize(data_list), ignore_index=True)\n",
      "C:\\Users\\mkh08\\AppData\\Local\\Temp\\ipykernel_28612\\1200875724.py:11: FutureWarning: pandas.io.json.json_normalize is deprecated, use pandas.json_normalize instead\n",
      "  df1 = df1.append(json_normalize(data_list), ignore_index=True)\n"
     ]
    },
    {
     "name": "stdout",
     "output_type": "stream",
     "text": [
      "329308 11455\n"
     ]
    }
   ],
   "source": [
    "#2021 1/4\n",
    "df1 = pd.DataFrame()  # Create an empty DataFrame to store the results\n",
    "#11455 116\n",
    "for page in range(1, 116):  # Iterate over all 24126 items (100 items per page, so 242 pages)\n",
    "    url = f\"https://api.odcloud.kr/api/3040719/v1/uddi:836524d6-0ecb-4084-9230-f656bed7a061?page={page}&perPage=100&serviceKey=SDqWmmlSMlsBobBnB0DwlV9IVwFkxNwn42%2BKrK%2F5WMV0AxecYPKMJ2tAurfLvCGOt2hvyBLvi9oG7R%2Bn%2FG4ZUA%3D%3D\"\n",
    "    response = urlopen(url)\n",
    "    json_api = response.read().decode(\"utf-8\")\n",
    "    json_file = json.loads(json_api)\n",
    "    data_list = json_file['data']\n",
    "    df = df.append(json_normalize(data_list), ignore_index=True)\n",
    "    df1 = df1.append(json_normalize(data_list), ignore_index=True)\n",
    "df1.tail()\n",
    "length = length+len(df1)\n",
    "print(length,len(df1))\n",
    "df1.to_csv('data/소보원데이터/알레르기_2021Q1.csv', index=False, encoding='utf-8-sig')\n",
    "df1.to_csv('data/소보원데이터/알레르기_2021Q1_backup.csv', index=False, encoding='utf-8')"
   ]
  },
  {
   "cell_type": "code",
   "execution_count": 11,
   "metadata": {},
   "outputs": [
    {
     "name": "stdout",
     "output_type": "stream",
     "text": [
      "176717\n",
      "176717\n"
     ]
    }
   ],
   "source": [
    "print(length)\n",
    "print(len(df))\n"
   ]
  },
  {
   "cell_type": "code",
   "execution_count": 12,
   "metadata": {},
   "outputs": [],
   "source": [
    "df1.to_csv('알레르기_2021-2023Q1.csv', index=False, encoding='utf-8-sig')\n",
    "df1.to_csv('알레르기_2021-2023Q1_backup.csv', index=False, encoding='utf-8')"
   ]
  },
  {
   "cell_type": "code",
   "execution_count": 3,
   "metadata": {},
   "outputs": [],
   "source": [
    "# df = pd.read_csv('data/소보원데이터/알레르기_2021Q1_backup.csv') #원인 불명 (알레르기 분류가 없음)\n",
    "# df1 = pd.read_csv('data/소보원데이터/알레르기_2021Q2_backup.csv') #원인 불명 (알레르기 분류가 없음)\n",
    "df2 = pd.read_csv('data/소보원데이터/알레르기_2021Q3_backup.csv')\n",
    "df3 = pd.read_csv('data/소보원데이터/알레르기_2021Q4_backup.csv')\n",
    "df4 = pd.read_csv('data/소보원데이터/알레르기_2022Q1_backup.csv')\n",
    "df5 = pd.read_csv('data/소보원데이터/알레르기_2022Q2_backup.csv')\n",
    "df6 = pd.read_csv('data/소보원데이터/알레르기_2022Q3_backup.csv')\n",
    "df7 = pd.read_csv('data/소보원데이터/알레르기_2022Q4_backup.csv')\n",
    "df8 = pd.read_csv('data/소보원데이터/알레르기_2023Q1_backup.csv')"
   ]
  },
  {
   "cell_type": "code",
   "execution_count": 4,
   "metadata": {},
   "outputs": [],
   "source": [
    "df2.drop(columns=['발생일자','발생장소', '접수번호'], axis=1, inplace=True)\n",
    "df3.drop(columns=['발생일자','발생장소', '접수번호'], axis=1, inplace=True)\n",
    "df4.drop(columns=['발생일자','발생장소', '접수번호'], axis=1, inplace=True)\n",
    "df5.drop(columns=['발생일자','발생장소 소분류', '접수번호'], axis=1, inplace=True)\n",
    "df6.drop(columns=['발생일자','발생장소 소분류', '접수번호'], axis=1, inplace=True)\n",
    "df7.drop(columns=['발생일자','발생장소', '접수번호'], axis=1, inplace=True)\n",
    "df8.drop(columns=['발생일자','발생장소', '접수번호'], axis=1, inplace=True)\n"
   ]
  },
  {
   "cell_type": "code",
   "execution_count": 5,
   "metadata": {},
   "outputs": [],
   "source": [
    "df7.rename(columns={'위해증상 (소분류)':'위해증상 소분류'}, inplace=True)\n",
    "df7.rename(columns={'위험 및 위해원인 소분류':'위험및위해원인 소분류'}, inplace=True)\n",
    "df8.rename(columns={'위해증상(소분류)':'위해증상 소분류'}, inplace=True)\n",
    "\n"
   ]
  },
  {
   "cell_type": "code",
   "execution_count": 23,
   "metadata": {},
   "outputs": [
    {
     "data": {
      "text/plain": [
       "위해부위 소분류       0\n",
       "위해자성별          0\n",
       "위해자연령          0\n",
       "위해증상 소분류       0\n",
       "위험및위해원인 소분류    0\n",
       "접수일            0\n",
       "치료기간           0\n",
       "품목대분류          0\n",
       "품목소분류          0\n",
       "품목중분류          0\n",
       "dtype: int64"
      ]
     },
     "execution_count": 23,
     "metadata": {},
     "output_type": "execute_result"
    }
   ],
   "source": [
    "df = pd.concat([df2, df3, df4, df5, df6, df7, df8])\n",
    "df.fillna(\"알수없음\", inplace=True) #성별, 연령\n",
    "df.isnull().sum()"
   ]
  },
  {
   "cell_type": "code",
   "execution_count": 24,
   "metadata": {},
   "outputs": [],
   "source": [
    "df = df[df['위해증상 소분류'].str.contains('알레르기', na=False)]\n",
    "df = df[df['위험및위해원인 소분류'].str.contains('식품', na=False)]\n"
   ]
  },
  {
   "cell_type": "code",
   "execution_count": 25,
   "metadata": {},
   "outputs": [
    {
     "data": {
      "text/html": [
       "<div>\n",
       "<style scoped>\n",
       "    .dataframe tbody tr th:only-of-type {\n",
       "        vertical-align: middle;\n",
       "    }\n",
       "\n",
       "    .dataframe tbody tr th {\n",
       "        vertical-align: top;\n",
       "    }\n",
       "\n",
       "    .dataframe thead th {\n",
       "        text-align: right;\n",
       "    }\n",
       "</style>\n",
       "<table border=\"1\" class=\"dataframe\">\n",
       "  <thead>\n",
       "    <tr style=\"text-align: right;\">\n",
       "      <th></th>\n",
       "      <th>위해부위 소분류</th>\n",
       "      <th>위해자성별</th>\n",
       "      <th>위해자연령</th>\n",
       "      <th>위해증상 소분류</th>\n",
       "      <th>위험및위해원인 소분류</th>\n",
       "      <th>접수일</th>\n",
       "      <th>치료기간</th>\n",
       "      <th>품목대분류</th>\n",
       "      <th>품목소분류</th>\n",
       "      <th>품목중분류</th>\n",
       "      <th>년도_분기</th>\n",
       "    </tr>\n",
       "  </thead>\n",
       "  <tbody>\n",
       "    <tr>\n",
       "      <th>682</th>\n",
       "      <td>전신 손상</td>\n",
       "      <td>여자</td>\n",
       "      <td>36.0</td>\n",
       "      <td>알레르기</td>\n",
       "      <td>식품 섭취에 의한 위험 및 위해</td>\n",
       "      <td>2021-07-05</td>\n",
       "      <td>해당없음</td>\n",
       "      <td>축산·수산물 식품</td>\n",
       "      <td>돼지</td>\n",
       "      <td>축산물-포유류</td>\n",
       "      <td>2021-Q3</td>\n",
       "    </tr>\n",
       "    <tr>\n",
       "      <th>3331</th>\n",
       "      <td>위해부위 확인불가</td>\n",
       "      <td>여자</td>\n",
       "      <td>알수없음</td>\n",
       "      <td>알레르기</td>\n",
       "      <td>식품 섭취에 의한 위험 및 위해</td>\n",
       "      <td>2021-07-13</td>\n",
       "      <td>해당없음</td>\n",
       "      <td>가공식품</td>\n",
       "      <td>일반 다이어트 식품</td>\n",
       "      <td>건강식품-다이어트 제품</td>\n",
       "      <td>2021-Q3</td>\n",
       "    </tr>\n",
       "    <tr>\n",
       "      <th>8192</th>\n",
       "      <td>눈 및 눈주변(눈썹 및 눈꺼풀)</td>\n",
       "      <td>여자</td>\n",
       "      <td>25.0</td>\n",
       "      <td>알레르기</td>\n",
       "      <td>식품 섭취에 의한 위험 및 위해</td>\n",
       "      <td>2021-07-27</td>\n",
       "      <td>해당없음</td>\n",
       "      <td>축산·수산물 식품</td>\n",
       "      <td>고등어</td>\n",
       "      <td>수산물-해양어류</td>\n",
       "      <td>2021-Q3</td>\n",
       "    </tr>\n",
       "    <tr>\n",
       "      <th>11129</th>\n",
       "      <td>입술, 혀</td>\n",
       "      <td>여자</td>\n",
       "      <td>44.0</td>\n",
       "      <td>알레르기</td>\n",
       "      <td>식품 섭취에 의한 위험 및 위해</td>\n",
       "      <td>2021-08-06</td>\n",
       "      <td>해당없음</td>\n",
       "      <td>축산·수산물 식품</td>\n",
       "      <td>소</td>\n",
       "      <td>축산물-포유류</td>\n",
       "      <td>2021-Q3</td>\n",
       "    </tr>\n",
       "    <tr>\n",
       "      <th>13216</th>\n",
       "      <td>전신 손상</td>\n",
       "      <td>여자</td>\n",
       "      <td>29.0</td>\n",
       "      <td>알레르기</td>\n",
       "      <td>식품 섭취에 의한 위험 및 위해</td>\n",
       "      <td>2021-08-17</td>\n",
       "      <td>해당없음</td>\n",
       "      <td>가공식품</td>\n",
       "      <td>떡볶이(라볶이)</td>\n",
       "      <td>외식-분식</td>\n",
       "      <td>2021-Q3</td>\n",
       "    </tr>\n",
       "  </tbody>\n",
       "</table>\n",
       "</div>"
      ],
      "text/plain": [
       "                위해부위 소분류 위해자성별 위해자연령 위해증상 소분류        위험및위해원인 소분류        접수일  \\\n",
       "682                전신 손상    여자  36.0     알레르기  식품 섭취에 의한 위험 및 위해 2021-07-05   \n",
       "3331           위해부위 확인불가    여자  알수없음     알레르기  식품 섭취에 의한 위험 및 위해 2021-07-13   \n",
       "8192   눈 및 눈주변(눈썹 및 눈꺼풀)    여자  25.0     알레르기  식품 섭취에 의한 위험 및 위해 2021-07-27   \n",
       "11129              입술, 혀    여자  44.0     알레르기  식품 섭취에 의한 위험 및 위해 2021-08-06   \n",
       "13216              전신 손상    여자  29.0     알레르기  식품 섭취에 의한 위험 및 위해 2021-08-17   \n",
       "\n",
       "       치료기간      품목대분류       품목소분류         품목중분류    년도_분기  \n",
       "682    해당없음  축산·수산물 식품          돼지       축산물-포유류  2021-Q3  \n",
       "3331   해당없음       가공식품  일반 다이어트 식품  건강식품-다이어트 제품  2021-Q3  \n",
       "8192   해당없음  축산·수산물 식품         고등어      수산물-해양어류  2021-Q3  \n",
       "11129  해당없음  축산·수산물 식품           소       축산물-포유류  2021-Q3  \n",
       "13216  해당없음       가공식품    떡볶이(라볶이)         외식-분식  2021-Q3  "
      ]
     },
     "execution_count": 25,
     "metadata": {},
     "output_type": "execute_result"
    }
   ],
   "source": [
    "df['접수일'] = pd.to_datetime(df['접수일']) \n",
    "# df['년도'] = df['접수일'].dt.year \n",
    "# df['분기'] = df['접수일'].dt.quarter\n",
    "df['년도_분기'] = df['접수일'].dt.year.astype(str) + '-Q' + df['접수일'].dt.quarter.astype(str)  # '년도_분기' 컬럼을 생성하여 년도와 분기를 문자열로 연결하여 저장합니다.\n",
    "df.head()"
   ]
  },
  {
   "cell_type": "code",
   "execution_count": 50,
   "metadata": {},
   "outputs": [
    {
     "data": {
      "text/html": [
       "<div>\n",
       "<style scoped>\n",
       "    .dataframe tbody tr th:only-of-type {\n",
       "        vertical-align: middle;\n",
       "    }\n",
       "\n",
       "    .dataframe tbody tr th {\n",
       "        vertical-align: top;\n",
       "    }\n",
       "\n",
       "    .dataframe thead th {\n",
       "        text-align: right;\n",
       "    }\n",
       "</style>\n",
       "<table border=\"1\" class=\"dataframe\">\n",
       "  <thead>\n",
       "    <tr style=\"text-align: right;\">\n",
       "      <th></th>\n",
       "      <th></th>\n",
       "      <th>count</th>\n",
       "    </tr>\n",
       "    <tr>\n",
       "      <th>년도_분기</th>\n",
       "      <th>품목대분류</th>\n",
       "      <th></th>\n",
       "    </tr>\n",
       "  </thead>\n",
       "  <tbody>\n",
       "    <tr>\n",
       "      <th rowspan=\"3\" valign=\"top\">2021-Q3</th>\n",
       "      <th>가공식품</th>\n",
       "      <td>6</td>\n",
       "    </tr>\n",
       "    <tr>\n",
       "      <th>식물 식품</th>\n",
       "      <td>1</td>\n",
       "    </tr>\n",
       "    <tr>\n",
       "      <th>축산·수산물 식품</th>\n",
       "      <td>4</td>\n",
       "    </tr>\n",
       "    <tr>\n",
       "      <th rowspan=\"3\" valign=\"top\">2021-Q4</th>\n",
       "      <th>가공식품</th>\n",
       "      <td>15</td>\n",
       "    </tr>\n",
       "    <tr>\n",
       "      <th>식물 식품</th>\n",
       "      <td>4</td>\n",
       "    </tr>\n",
       "    <tr>\n",
       "      <th>축산·수산물 식품</th>\n",
       "      <td>2</td>\n",
       "    </tr>\n",
       "    <tr>\n",
       "      <th rowspan=\"2\" valign=\"top\">2022-Q1</th>\n",
       "      <th>가공식품</th>\n",
       "      <td>16</td>\n",
       "    </tr>\n",
       "    <tr>\n",
       "      <th>축산·수산물 식품</th>\n",
       "      <td>1</td>\n",
       "    </tr>\n",
       "    <tr>\n",
       "      <th rowspan=\"3\" valign=\"top\">2022-Q2</th>\n",
       "      <th>가공식품</th>\n",
       "      <td>19</td>\n",
       "    </tr>\n",
       "    <tr>\n",
       "      <th>식물 식품</th>\n",
       "      <td>3</td>\n",
       "    </tr>\n",
       "    <tr>\n",
       "      <th>축산·수산물 식품</th>\n",
       "      <td>9</td>\n",
       "    </tr>\n",
       "    <tr>\n",
       "      <th rowspan=\"3\" valign=\"top\">2022-Q3</th>\n",
       "      <th>가공식품</th>\n",
       "      <td>25</td>\n",
       "    </tr>\n",
       "    <tr>\n",
       "      <th>식물 식품</th>\n",
       "      <td>4</td>\n",
       "    </tr>\n",
       "    <tr>\n",
       "      <th>축산·수산물 식품</th>\n",
       "      <td>7</td>\n",
       "    </tr>\n",
       "    <tr>\n",
       "      <th rowspan=\"3\" valign=\"top\">2022-Q4</th>\n",
       "      <th>가공식품</th>\n",
       "      <td>16</td>\n",
       "    </tr>\n",
       "    <tr>\n",
       "      <th>식물 식품</th>\n",
       "      <td>1</td>\n",
       "    </tr>\n",
       "    <tr>\n",
       "      <th>축산·수산물 식품</th>\n",
       "      <td>5</td>\n",
       "    </tr>\n",
       "    <tr>\n",
       "      <th rowspan=\"3\" valign=\"top\">2023-Q1</th>\n",
       "      <th>가공식품</th>\n",
       "      <td>33</td>\n",
       "    </tr>\n",
       "    <tr>\n",
       "      <th>식물 식품</th>\n",
       "      <td>8</td>\n",
       "    </tr>\n",
       "    <tr>\n",
       "      <th>축산·수산물 식품</th>\n",
       "      <td>9</td>\n",
       "    </tr>\n",
       "  </tbody>\n",
       "</table>\n",
       "</div>"
      ],
      "text/plain": [
       "                   count\n",
       "년도_분기   품목대분류           \n",
       "2021-Q3 가공식품           6\n",
       "        식물 식품          1\n",
       "        축산·수산물 식품      4\n",
       "2021-Q4 가공식품          15\n",
       "        식물 식품          4\n",
       "        축산·수산물 식품      2\n",
       "2022-Q1 가공식품          16\n",
       "        축산·수산물 식품      1\n",
       "2022-Q2 가공식품          19\n",
       "        식물 식품          3\n",
       "        축산·수산물 식품      9\n",
       "2022-Q3 가공식품          25\n",
       "        식물 식품          4\n",
       "        축산·수산물 식품      7\n",
       "2022-Q4 가공식품          16\n",
       "        식물 식품          1\n",
       "        축산·수산물 식품      5\n",
       "2023-Q1 가공식품          33\n",
       "        식물 식품          8\n",
       "        축산·수산물 식품      9"
      ]
     },
     "execution_count": 50,
     "metadata": {},
     "output_type": "execute_result"
    }
   ],
   "source": [
    "df_groupby = df.groupby(\"년도_분기\")['접수일'].agg(['count'])\n",
    "df_groupby1 = df.groupby([\"년도_분기\",\"품목대분류\"]).agg(['count'])\n",
    "df_groupby1 = df_groupby1['위해부위 소분류']\n",
    "df_groupby1"
   ]
  },
  {
   "cell_type": "code",
   "execution_count": 42,
   "metadata": {},
   "outputs": [
    {
     "data": {
      "application/vnd.plotly.v1+json": {
       "config": {
        "plotlyServerURL": "https://plot.ly"
       },
       "data": [
        {
         "hovertemplate": "년도_분기=%{x}<br>count=%{text}<extra></extra>",
         "legendgroup": "",
         "line": {
          "color": "#636efa",
          "dash": "solid"
         },
         "marker": {
          "symbol": "circle"
         },
         "mode": "markers+text+lines",
         "name": "",
         "orientation": "v",
         "showlegend": false,
         "text": [
          11,
          21,
          17,
          31,
          36,
          22,
          50
         ],
         "textposition": "top center",
         "type": "scatter",
         "x": [
          "2021-Q3",
          "2021-Q4",
          "2022-Q1",
          "2022-Q2",
          "2022-Q3",
          "2022-Q4",
          "2023-Q1"
         ],
         "xaxis": "x",
         "y": [
          11,
          21,
          17,
          31,
          36,
          22,
          50
         ],
         "yaxis": "y"
        }
       ],
       "layout": {
        "legend": {
         "tracegroupgap": 0
        },
        "margin": {
         "t": 60
        },
        "template": {
         "data": {
          "bar": [
           {
            "error_x": {
             "color": "#2a3f5f"
            },
            "error_y": {
             "color": "#2a3f5f"
            },
            "marker": {
             "line": {
              "color": "#E5ECF6",
              "width": 0.5
             },
             "pattern": {
              "fillmode": "overlay",
              "size": 10,
              "solidity": 0.2
             }
            },
            "type": "bar"
           }
          ],
          "barpolar": [
           {
            "marker": {
             "line": {
              "color": "#E5ECF6",
              "width": 0.5
             },
             "pattern": {
              "fillmode": "overlay",
              "size": 10,
              "solidity": 0.2
             }
            },
            "type": "barpolar"
           }
          ],
          "carpet": [
           {
            "aaxis": {
             "endlinecolor": "#2a3f5f",
             "gridcolor": "white",
             "linecolor": "white",
             "minorgridcolor": "white",
             "startlinecolor": "#2a3f5f"
            },
            "baxis": {
             "endlinecolor": "#2a3f5f",
             "gridcolor": "white",
             "linecolor": "white",
             "minorgridcolor": "white",
             "startlinecolor": "#2a3f5f"
            },
            "type": "carpet"
           }
          ],
          "choropleth": [
           {
            "colorbar": {
             "outlinewidth": 0,
             "ticks": ""
            },
            "type": "choropleth"
           }
          ],
          "contour": [
           {
            "colorbar": {
             "outlinewidth": 0,
             "ticks": ""
            },
            "colorscale": [
             [
              0,
              "#0d0887"
             ],
             [
              0.1111111111111111,
              "#46039f"
             ],
             [
              0.2222222222222222,
              "#7201a8"
             ],
             [
              0.3333333333333333,
              "#9c179e"
             ],
             [
              0.4444444444444444,
              "#bd3786"
             ],
             [
              0.5555555555555556,
              "#d8576b"
             ],
             [
              0.6666666666666666,
              "#ed7953"
             ],
             [
              0.7777777777777778,
              "#fb9f3a"
             ],
             [
              0.8888888888888888,
              "#fdca26"
             ],
             [
              1,
              "#f0f921"
             ]
            ],
            "type": "contour"
           }
          ],
          "contourcarpet": [
           {
            "colorbar": {
             "outlinewidth": 0,
             "ticks": ""
            },
            "type": "contourcarpet"
           }
          ],
          "heatmap": [
           {
            "colorbar": {
             "outlinewidth": 0,
             "ticks": ""
            },
            "colorscale": [
             [
              0,
              "#0d0887"
             ],
             [
              0.1111111111111111,
              "#46039f"
             ],
             [
              0.2222222222222222,
              "#7201a8"
             ],
             [
              0.3333333333333333,
              "#9c179e"
             ],
             [
              0.4444444444444444,
              "#bd3786"
             ],
             [
              0.5555555555555556,
              "#d8576b"
             ],
             [
              0.6666666666666666,
              "#ed7953"
             ],
             [
              0.7777777777777778,
              "#fb9f3a"
             ],
             [
              0.8888888888888888,
              "#fdca26"
             ],
             [
              1,
              "#f0f921"
             ]
            ],
            "type": "heatmap"
           }
          ],
          "heatmapgl": [
           {
            "colorbar": {
             "outlinewidth": 0,
             "ticks": ""
            },
            "colorscale": [
             [
              0,
              "#0d0887"
             ],
             [
              0.1111111111111111,
              "#46039f"
             ],
             [
              0.2222222222222222,
              "#7201a8"
             ],
             [
              0.3333333333333333,
              "#9c179e"
             ],
             [
              0.4444444444444444,
              "#bd3786"
             ],
             [
              0.5555555555555556,
              "#d8576b"
             ],
             [
              0.6666666666666666,
              "#ed7953"
             ],
             [
              0.7777777777777778,
              "#fb9f3a"
             ],
             [
              0.8888888888888888,
              "#fdca26"
             ],
             [
              1,
              "#f0f921"
             ]
            ],
            "type": "heatmapgl"
           }
          ],
          "histogram": [
           {
            "marker": {
             "pattern": {
              "fillmode": "overlay",
              "size": 10,
              "solidity": 0.2
             }
            },
            "type": "histogram"
           }
          ],
          "histogram2d": [
           {
            "colorbar": {
             "outlinewidth": 0,
             "ticks": ""
            },
            "colorscale": [
             [
              0,
              "#0d0887"
             ],
             [
              0.1111111111111111,
              "#46039f"
             ],
             [
              0.2222222222222222,
              "#7201a8"
             ],
             [
              0.3333333333333333,
              "#9c179e"
             ],
             [
              0.4444444444444444,
              "#bd3786"
             ],
             [
              0.5555555555555556,
              "#d8576b"
             ],
             [
              0.6666666666666666,
              "#ed7953"
             ],
             [
              0.7777777777777778,
              "#fb9f3a"
             ],
             [
              0.8888888888888888,
              "#fdca26"
             ],
             [
              1,
              "#f0f921"
             ]
            ],
            "type": "histogram2d"
           }
          ],
          "histogram2dcontour": [
           {
            "colorbar": {
             "outlinewidth": 0,
             "ticks": ""
            },
            "colorscale": [
             [
              0,
              "#0d0887"
             ],
             [
              0.1111111111111111,
              "#46039f"
             ],
             [
              0.2222222222222222,
              "#7201a8"
             ],
             [
              0.3333333333333333,
              "#9c179e"
             ],
             [
              0.4444444444444444,
              "#bd3786"
             ],
             [
              0.5555555555555556,
              "#d8576b"
             ],
             [
              0.6666666666666666,
              "#ed7953"
             ],
             [
              0.7777777777777778,
              "#fb9f3a"
             ],
             [
              0.8888888888888888,
              "#fdca26"
             ],
             [
              1,
              "#f0f921"
             ]
            ],
            "type": "histogram2dcontour"
           }
          ],
          "mesh3d": [
           {
            "colorbar": {
             "outlinewidth": 0,
             "ticks": ""
            },
            "type": "mesh3d"
           }
          ],
          "parcoords": [
           {
            "line": {
             "colorbar": {
              "outlinewidth": 0,
              "ticks": ""
             }
            },
            "type": "parcoords"
           }
          ],
          "pie": [
           {
            "automargin": true,
            "type": "pie"
           }
          ],
          "scatter": [
           {
            "fillpattern": {
             "fillmode": "overlay",
             "size": 10,
             "solidity": 0.2
            },
            "type": "scatter"
           }
          ],
          "scatter3d": [
           {
            "line": {
             "colorbar": {
              "outlinewidth": 0,
              "ticks": ""
             }
            },
            "marker": {
             "colorbar": {
              "outlinewidth": 0,
              "ticks": ""
             }
            },
            "type": "scatter3d"
           }
          ],
          "scattercarpet": [
           {
            "marker": {
             "colorbar": {
              "outlinewidth": 0,
              "ticks": ""
             }
            },
            "type": "scattercarpet"
           }
          ],
          "scattergeo": [
           {
            "marker": {
             "colorbar": {
              "outlinewidth": 0,
              "ticks": ""
             }
            },
            "type": "scattergeo"
           }
          ],
          "scattergl": [
           {
            "marker": {
             "colorbar": {
              "outlinewidth": 0,
              "ticks": ""
             }
            },
            "type": "scattergl"
           }
          ],
          "scattermapbox": [
           {
            "marker": {
             "colorbar": {
              "outlinewidth": 0,
              "ticks": ""
             }
            },
            "type": "scattermapbox"
           }
          ],
          "scatterpolar": [
           {
            "marker": {
             "colorbar": {
              "outlinewidth": 0,
              "ticks": ""
             }
            },
            "type": "scatterpolar"
           }
          ],
          "scatterpolargl": [
           {
            "marker": {
             "colorbar": {
              "outlinewidth": 0,
              "ticks": ""
             }
            },
            "type": "scatterpolargl"
           }
          ],
          "scatterternary": [
           {
            "marker": {
             "colorbar": {
              "outlinewidth": 0,
              "ticks": ""
             }
            },
            "type": "scatterternary"
           }
          ],
          "surface": [
           {
            "colorbar": {
             "outlinewidth": 0,
             "ticks": ""
            },
            "colorscale": [
             [
              0,
              "#0d0887"
             ],
             [
              0.1111111111111111,
              "#46039f"
             ],
             [
              0.2222222222222222,
              "#7201a8"
             ],
             [
              0.3333333333333333,
              "#9c179e"
             ],
             [
              0.4444444444444444,
              "#bd3786"
             ],
             [
              0.5555555555555556,
              "#d8576b"
             ],
             [
              0.6666666666666666,
              "#ed7953"
             ],
             [
              0.7777777777777778,
              "#fb9f3a"
             ],
             [
              0.8888888888888888,
              "#fdca26"
             ],
             [
              1,
              "#f0f921"
             ]
            ],
            "type": "surface"
           }
          ],
          "table": [
           {
            "cells": {
             "fill": {
              "color": "#EBF0F8"
             },
             "line": {
              "color": "white"
             }
            },
            "header": {
             "fill": {
              "color": "#C8D4E3"
             },
             "line": {
              "color": "white"
             }
            },
            "type": "table"
           }
          ]
         },
         "layout": {
          "annotationdefaults": {
           "arrowcolor": "#2a3f5f",
           "arrowhead": 0,
           "arrowwidth": 1
          },
          "autotypenumbers": "strict",
          "coloraxis": {
           "colorbar": {
            "outlinewidth": 0,
            "ticks": ""
           }
          },
          "colorscale": {
           "diverging": [
            [
             0,
             "#8e0152"
            ],
            [
             0.1,
             "#c51b7d"
            ],
            [
             0.2,
             "#de77ae"
            ],
            [
             0.3,
             "#f1b6da"
            ],
            [
             0.4,
             "#fde0ef"
            ],
            [
             0.5,
             "#f7f7f7"
            ],
            [
             0.6,
             "#e6f5d0"
            ],
            [
             0.7,
             "#b8e186"
            ],
            [
             0.8,
             "#7fbc41"
            ],
            [
             0.9,
             "#4d9221"
            ],
            [
             1,
             "#276419"
            ]
           ],
           "sequential": [
            [
             0,
             "#0d0887"
            ],
            [
             0.1111111111111111,
             "#46039f"
            ],
            [
             0.2222222222222222,
             "#7201a8"
            ],
            [
             0.3333333333333333,
             "#9c179e"
            ],
            [
             0.4444444444444444,
             "#bd3786"
            ],
            [
             0.5555555555555556,
             "#d8576b"
            ],
            [
             0.6666666666666666,
             "#ed7953"
            ],
            [
             0.7777777777777778,
             "#fb9f3a"
            ],
            [
             0.8888888888888888,
             "#fdca26"
            ],
            [
             1,
             "#f0f921"
            ]
           ],
           "sequentialminus": [
            [
             0,
             "#0d0887"
            ],
            [
             0.1111111111111111,
             "#46039f"
            ],
            [
             0.2222222222222222,
             "#7201a8"
            ],
            [
             0.3333333333333333,
             "#9c179e"
            ],
            [
             0.4444444444444444,
             "#bd3786"
            ],
            [
             0.5555555555555556,
             "#d8576b"
            ],
            [
             0.6666666666666666,
             "#ed7953"
            ],
            [
             0.7777777777777778,
             "#fb9f3a"
            ],
            [
             0.8888888888888888,
             "#fdca26"
            ],
            [
             1,
             "#f0f921"
            ]
           ]
          },
          "colorway": [
           "#636efa",
           "#EF553B",
           "#00cc96",
           "#ab63fa",
           "#FFA15A",
           "#19d3f3",
           "#FF6692",
           "#B6E880",
           "#FF97FF",
           "#FECB52"
          ],
          "font": {
           "color": "#2a3f5f"
          },
          "geo": {
           "bgcolor": "white",
           "lakecolor": "white",
           "landcolor": "#E5ECF6",
           "showlakes": true,
           "showland": true,
           "subunitcolor": "white"
          },
          "hoverlabel": {
           "align": "left"
          },
          "hovermode": "closest",
          "mapbox": {
           "style": "light"
          },
          "paper_bgcolor": "white",
          "plot_bgcolor": "#E5ECF6",
          "polar": {
           "angularaxis": {
            "gridcolor": "white",
            "linecolor": "white",
            "ticks": ""
           },
           "bgcolor": "#E5ECF6",
           "radialaxis": {
            "gridcolor": "white",
            "linecolor": "white",
            "ticks": ""
           }
          },
          "scene": {
           "xaxis": {
            "backgroundcolor": "#E5ECF6",
            "gridcolor": "white",
            "gridwidth": 2,
            "linecolor": "white",
            "showbackground": true,
            "ticks": "",
            "zerolinecolor": "white"
           },
           "yaxis": {
            "backgroundcolor": "#E5ECF6",
            "gridcolor": "white",
            "gridwidth": 2,
            "linecolor": "white",
            "showbackground": true,
            "ticks": "",
            "zerolinecolor": "white"
           },
           "zaxis": {
            "backgroundcolor": "#E5ECF6",
            "gridcolor": "white",
            "gridwidth": 2,
            "linecolor": "white",
            "showbackground": true,
            "ticks": "",
            "zerolinecolor": "white"
           }
          },
          "shapedefaults": {
           "line": {
            "color": "#2a3f5f"
           }
          },
          "ternary": {
           "aaxis": {
            "gridcolor": "white",
            "linecolor": "white",
            "ticks": ""
           },
           "baxis": {
            "gridcolor": "white",
            "linecolor": "white",
            "ticks": ""
           },
           "bgcolor": "#E5ECF6",
           "caxis": {
            "gridcolor": "white",
            "linecolor": "white",
            "ticks": ""
           }
          },
          "title": {
           "x": 0.05
          },
          "xaxis": {
           "automargin": true,
           "gridcolor": "white",
           "linecolor": "white",
           "ticks": "",
           "title": {
            "standoff": 15
           },
           "zerolinecolor": "white",
           "zerolinewidth": 2
          },
          "yaxis": {
           "automargin": true,
           "gridcolor": "white",
           "linecolor": "white",
           "ticks": "",
           "title": {
            "standoff": 15
           },
           "zerolinecolor": "white",
           "zerolinewidth": 2
          }
         }
        },
        "title": {
         "text": "한국소비자원 소비자 위해 정보: 식품-알레르기 신고 접수건수"
        },
        "xaxis": {
         "anchor": "y",
         "domain": [
          0,
          1
         ],
         "title": {
          "text": "년도-분기"
         }
        },
        "yaxis": {
         "anchor": "x",
         "domain": [
          0,
          1
         ],
         "title": {
          "text": "신고 건수"
         }
        }
       }
      }
     },
     "metadata": {},
     "output_type": "display_data"
    }
   ],
   "source": [
    "import plotly.express as px\n",
    "import plotly.graph_objects as go\n",
    "\n",
    "df_reset = df_groupby.reset_index()\n",
    "fig = px.line(df_reset, x='년도_분기', y='count', text=\"count\")\n",
    "fig.update_traces(textposition=\"top center\")\n",
    "fig.update_layout(\n",
    "    title = \"한국소비자원 소비자 위해 정보: 식품-알레르기 신고 접수건수\",\n",
    "    xaxis_title=\"년도-분기\",\n",
    "    yaxis_title=\"신고 건수\",\n",
    "    )\n",
    "fig.show()"
   ]
  },
  {
   "cell_type": "code",
   "execution_count": 92,
   "metadata": {},
   "outputs": [
    {
     "data": {
      "application/vnd.plotly.v1+json": {
       "config": {
        "plotlyServerURL": "https://plot.ly"
       },
       "data": [
        {
         "alignmentgroup": "True",
         "hovertemplate": "품목대분류=가공식품<br>년도_분기=%{x}<br>count=%{y}<extra></extra>",
         "legendgroup": "가공식품",
         "marker": {
          "color": "#636efa",
          "pattern": {
           "shape": ""
          }
         },
         "name": "가공식품",
         "offsetgroup": "가공식품",
         "orientation": "v",
         "showlegend": true,
         "textposition": "outside",
         "texttemplate": "%{y}",
         "type": "bar",
         "x": [
          "2021-Q3",
          "2021-Q4",
          "2022-Q1",
          "2022-Q2",
          "2022-Q3",
          "2022-Q4",
          "2023-Q1"
         ],
         "xaxis": "x",
         "y": [
          6,
          15,
          16,
          19,
          25,
          16,
          33
         ],
         "yaxis": "y"
        },
        {
         "alignmentgroup": "True",
         "hovertemplate": "품목대분류=식물 식품<br>년도_분기=%{x}<br>count=%{y}<extra></extra>",
         "legendgroup": "식물 식품",
         "marker": {
          "color": "#EF553B",
          "pattern": {
           "shape": ""
          }
         },
         "name": "식물 식품",
         "offsetgroup": "식물 식품",
         "orientation": "v",
         "showlegend": true,
         "textposition": "outside",
         "texttemplate": "%{y}",
         "type": "bar",
         "x": [
          "2021-Q3",
          "2021-Q4",
          "2022-Q2",
          "2022-Q3",
          "2022-Q4",
          "2023-Q1"
         ],
         "xaxis": "x",
         "y": [
          1,
          4,
          3,
          4,
          1,
          8
         ],
         "yaxis": "y"
        },
        {
         "alignmentgroup": "True",
         "hovertemplate": "품목대분류=축산·수산물 식품<br>년도_분기=%{x}<br>count=%{y}<extra></extra>",
         "legendgroup": "축산·수산물 식품",
         "marker": {
          "color": "#00cc96",
          "pattern": {
           "shape": ""
          }
         },
         "name": "축산·수산물 식품",
         "offsetgroup": "축산·수산물 식품",
         "orientation": "v",
         "showlegend": true,
         "textposition": "outside",
         "texttemplate": "%{y}",
         "type": "bar",
         "x": [
          "2021-Q3",
          "2021-Q4",
          "2022-Q1",
          "2022-Q2",
          "2022-Q3",
          "2022-Q4",
          "2023-Q1"
         ],
         "xaxis": "x",
         "y": [
          4,
          2,
          1,
          9,
          7,
          5,
          9
         ],
         "yaxis": "y"
        }
       ],
       "layout": {
        "barmode": "group",
        "legend": {
         "orientation": "h",
         "title": {
          "text": ""
         },
         "tracegroupgap": 0,
         "x": 0.86,
         "xanchor": "center",
         "y": 1.07,
         "yanchor": "bottom"
        },
        "margin": {
         "t": 60
        },
        "template": {
         "data": {
          "bar": [
           {
            "error_x": {
             "color": "#2a3f5f"
            },
            "error_y": {
             "color": "#2a3f5f"
            },
            "marker": {
             "line": {
              "color": "#E5ECF6",
              "width": 0.5
             },
             "pattern": {
              "fillmode": "overlay",
              "size": 10,
              "solidity": 0.2
             }
            },
            "type": "bar"
           }
          ],
          "barpolar": [
           {
            "marker": {
             "line": {
              "color": "#E5ECF6",
              "width": 0.5
             },
             "pattern": {
              "fillmode": "overlay",
              "size": 10,
              "solidity": 0.2
             }
            },
            "type": "barpolar"
           }
          ],
          "carpet": [
           {
            "aaxis": {
             "endlinecolor": "#2a3f5f",
             "gridcolor": "white",
             "linecolor": "white",
             "minorgridcolor": "white",
             "startlinecolor": "#2a3f5f"
            },
            "baxis": {
             "endlinecolor": "#2a3f5f",
             "gridcolor": "white",
             "linecolor": "white",
             "minorgridcolor": "white",
             "startlinecolor": "#2a3f5f"
            },
            "type": "carpet"
           }
          ],
          "choropleth": [
           {
            "colorbar": {
             "outlinewidth": 0,
             "ticks": ""
            },
            "type": "choropleth"
           }
          ],
          "contour": [
           {
            "colorbar": {
             "outlinewidth": 0,
             "ticks": ""
            },
            "colorscale": [
             [
              0,
              "#0d0887"
             ],
             [
              0.1111111111111111,
              "#46039f"
             ],
             [
              0.2222222222222222,
              "#7201a8"
             ],
             [
              0.3333333333333333,
              "#9c179e"
             ],
             [
              0.4444444444444444,
              "#bd3786"
             ],
             [
              0.5555555555555556,
              "#d8576b"
             ],
             [
              0.6666666666666666,
              "#ed7953"
             ],
             [
              0.7777777777777778,
              "#fb9f3a"
             ],
             [
              0.8888888888888888,
              "#fdca26"
             ],
             [
              1,
              "#f0f921"
             ]
            ],
            "type": "contour"
           }
          ],
          "contourcarpet": [
           {
            "colorbar": {
             "outlinewidth": 0,
             "ticks": ""
            },
            "type": "contourcarpet"
           }
          ],
          "heatmap": [
           {
            "colorbar": {
             "outlinewidth": 0,
             "ticks": ""
            },
            "colorscale": [
             [
              0,
              "#0d0887"
             ],
             [
              0.1111111111111111,
              "#46039f"
             ],
             [
              0.2222222222222222,
              "#7201a8"
             ],
             [
              0.3333333333333333,
              "#9c179e"
             ],
             [
              0.4444444444444444,
              "#bd3786"
             ],
             [
              0.5555555555555556,
              "#d8576b"
             ],
             [
              0.6666666666666666,
              "#ed7953"
             ],
             [
              0.7777777777777778,
              "#fb9f3a"
             ],
             [
              0.8888888888888888,
              "#fdca26"
             ],
             [
              1,
              "#f0f921"
             ]
            ],
            "type": "heatmap"
           }
          ],
          "heatmapgl": [
           {
            "colorbar": {
             "outlinewidth": 0,
             "ticks": ""
            },
            "colorscale": [
             [
              0,
              "#0d0887"
             ],
             [
              0.1111111111111111,
              "#46039f"
             ],
             [
              0.2222222222222222,
              "#7201a8"
             ],
             [
              0.3333333333333333,
              "#9c179e"
             ],
             [
              0.4444444444444444,
              "#bd3786"
             ],
             [
              0.5555555555555556,
              "#d8576b"
             ],
             [
              0.6666666666666666,
              "#ed7953"
             ],
             [
              0.7777777777777778,
              "#fb9f3a"
             ],
             [
              0.8888888888888888,
              "#fdca26"
             ],
             [
              1,
              "#f0f921"
             ]
            ],
            "type": "heatmapgl"
           }
          ],
          "histogram": [
           {
            "marker": {
             "pattern": {
              "fillmode": "overlay",
              "size": 10,
              "solidity": 0.2
             }
            },
            "type": "histogram"
           }
          ],
          "histogram2d": [
           {
            "colorbar": {
             "outlinewidth": 0,
             "ticks": ""
            },
            "colorscale": [
             [
              0,
              "#0d0887"
             ],
             [
              0.1111111111111111,
              "#46039f"
             ],
             [
              0.2222222222222222,
              "#7201a8"
             ],
             [
              0.3333333333333333,
              "#9c179e"
             ],
             [
              0.4444444444444444,
              "#bd3786"
             ],
             [
              0.5555555555555556,
              "#d8576b"
             ],
             [
              0.6666666666666666,
              "#ed7953"
             ],
             [
              0.7777777777777778,
              "#fb9f3a"
             ],
             [
              0.8888888888888888,
              "#fdca26"
             ],
             [
              1,
              "#f0f921"
             ]
            ],
            "type": "histogram2d"
           }
          ],
          "histogram2dcontour": [
           {
            "colorbar": {
             "outlinewidth": 0,
             "ticks": ""
            },
            "colorscale": [
             [
              0,
              "#0d0887"
             ],
             [
              0.1111111111111111,
              "#46039f"
             ],
             [
              0.2222222222222222,
              "#7201a8"
             ],
             [
              0.3333333333333333,
              "#9c179e"
             ],
             [
              0.4444444444444444,
              "#bd3786"
             ],
             [
              0.5555555555555556,
              "#d8576b"
             ],
             [
              0.6666666666666666,
              "#ed7953"
             ],
             [
              0.7777777777777778,
              "#fb9f3a"
             ],
             [
              0.8888888888888888,
              "#fdca26"
             ],
             [
              1,
              "#f0f921"
             ]
            ],
            "type": "histogram2dcontour"
           }
          ],
          "mesh3d": [
           {
            "colorbar": {
             "outlinewidth": 0,
             "ticks": ""
            },
            "type": "mesh3d"
           }
          ],
          "parcoords": [
           {
            "line": {
             "colorbar": {
              "outlinewidth": 0,
              "ticks": ""
             }
            },
            "type": "parcoords"
           }
          ],
          "pie": [
           {
            "automargin": true,
            "type": "pie"
           }
          ],
          "scatter": [
           {
            "fillpattern": {
             "fillmode": "overlay",
             "size": 10,
             "solidity": 0.2
            },
            "type": "scatter"
           }
          ],
          "scatter3d": [
           {
            "line": {
             "colorbar": {
              "outlinewidth": 0,
              "ticks": ""
             }
            },
            "marker": {
             "colorbar": {
              "outlinewidth": 0,
              "ticks": ""
             }
            },
            "type": "scatter3d"
           }
          ],
          "scattercarpet": [
           {
            "marker": {
             "colorbar": {
              "outlinewidth": 0,
              "ticks": ""
             }
            },
            "type": "scattercarpet"
           }
          ],
          "scattergeo": [
           {
            "marker": {
             "colorbar": {
              "outlinewidth": 0,
              "ticks": ""
             }
            },
            "type": "scattergeo"
           }
          ],
          "scattergl": [
           {
            "marker": {
             "colorbar": {
              "outlinewidth": 0,
              "ticks": ""
             }
            },
            "type": "scattergl"
           }
          ],
          "scattermapbox": [
           {
            "marker": {
             "colorbar": {
              "outlinewidth": 0,
              "ticks": ""
             }
            },
            "type": "scattermapbox"
           }
          ],
          "scatterpolar": [
           {
            "marker": {
             "colorbar": {
              "outlinewidth": 0,
              "ticks": ""
             }
            },
            "type": "scatterpolar"
           }
          ],
          "scatterpolargl": [
           {
            "marker": {
             "colorbar": {
              "outlinewidth": 0,
              "ticks": ""
             }
            },
            "type": "scatterpolargl"
           }
          ],
          "scatterternary": [
           {
            "marker": {
             "colorbar": {
              "outlinewidth": 0,
              "ticks": ""
             }
            },
            "type": "scatterternary"
           }
          ],
          "surface": [
           {
            "colorbar": {
             "outlinewidth": 0,
             "ticks": ""
            },
            "colorscale": [
             [
              0,
              "#0d0887"
             ],
             [
              0.1111111111111111,
              "#46039f"
             ],
             [
              0.2222222222222222,
              "#7201a8"
             ],
             [
              0.3333333333333333,
              "#9c179e"
             ],
             [
              0.4444444444444444,
              "#bd3786"
             ],
             [
              0.5555555555555556,
              "#d8576b"
             ],
             [
              0.6666666666666666,
              "#ed7953"
             ],
             [
              0.7777777777777778,
              "#fb9f3a"
             ],
             [
              0.8888888888888888,
              "#fdca26"
             ],
             [
              1,
              "#f0f921"
             ]
            ],
            "type": "surface"
           }
          ],
          "table": [
           {
            "cells": {
             "fill": {
              "color": "#EBF0F8"
             },
             "line": {
              "color": "white"
             }
            },
            "header": {
             "fill": {
              "color": "#C8D4E3"
             },
             "line": {
              "color": "white"
             }
            },
            "type": "table"
           }
          ]
         },
         "layout": {
          "annotationdefaults": {
           "arrowcolor": "#2a3f5f",
           "arrowhead": 0,
           "arrowwidth": 1
          },
          "autotypenumbers": "strict",
          "coloraxis": {
           "colorbar": {
            "outlinewidth": 0,
            "ticks": ""
           }
          },
          "colorscale": {
           "diverging": [
            [
             0,
             "#8e0152"
            ],
            [
             0.1,
             "#c51b7d"
            ],
            [
             0.2,
             "#de77ae"
            ],
            [
             0.3,
             "#f1b6da"
            ],
            [
             0.4,
             "#fde0ef"
            ],
            [
             0.5,
             "#f7f7f7"
            ],
            [
             0.6,
             "#e6f5d0"
            ],
            [
             0.7,
             "#b8e186"
            ],
            [
             0.8,
             "#7fbc41"
            ],
            [
             0.9,
             "#4d9221"
            ],
            [
             1,
             "#276419"
            ]
           ],
           "sequential": [
            [
             0,
             "#0d0887"
            ],
            [
             0.1111111111111111,
             "#46039f"
            ],
            [
             0.2222222222222222,
             "#7201a8"
            ],
            [
             0.3333333333333333,
             "#9c179e"
            ],
            [
             0.4444444444444444,
             "#bd3786"
            ],
            [
             0.5555555555555556,
             "#d8576b"
            ],
            [
             0.6666666666666666,
             "#ed7953"
            ],
            [
             0.7777777777777778,
             "#fb9f3a"
            ],
            [
             0.8888888888888888,
             "#fdca26"
            ],
            [
             1,
             "#f0f921"
            ]
           ],
           "sequentialminus": [
            [
             0,
             "#0d0887"
            ],
            [
             0.1111111111111111,
             "#46039f"
            ],
            [
             0.2222222222222222,
             "#7201a8"
            ],
            [
             0.3333333333333333,
             "#9c179e"
            ],
            [
             0.4444444444444444,
             "#bd3786"
            ],
            [
             0.5555555555555556,
             "#d8576b"
            ],
            [
             0.6666666666666666,
             "#ed7953"
            ],
            [
             0.7777777777777778,
             "#fb9f3a"
            ],
            [
             0.8888888888888888,
             "#fdca26"
            ],
            [
             1,
             "#f0f921"
            ]
           ]
          },
          "colorway": [
           "#636efa",
           "#EF553B",
           "#00cc96",
           "#ab63fa",
           "#FFA15A",
           "#19d3f3",
           "#FF6692",
           "#B6E880",
           "#FF97FF",
           "#FECB52"
          ],
          "font": {
           "color": "#2a3f5f"
          },
          "geo": {
           "bgcolor": "white",
           "lakecolor": "white",
           "landcolor": "#E5ECF6",
           "showlakes": true,
           "showland": true,
           "subunitcolor": "white"
          },
          "hoverlabel": {
           "align": "left"
          },
          "hovermode": "closest",
          "mapbox": {
           "style": "light"
          },
          "paper_bgcolor": "white",
          "plot_bgcolor": "#E5ECF6",
          "polar": {
           "angularaxis": {
            "gridcolor": "white",
            "linecolor": "white",
            "ticks": ""
           },
           "bgcolor": "#E5ECF6",
           "radialaxis": {
            "gridcolor": "white",
            "linecolor": "white",
            "ticks": ""
           }
          },
          "scene": {
           "xaxis": {
            "backgroundcolor": "#E5ECF6",
            "gridcolor": "white",
            "gridwidth": 2,
            "linecolor": "white",
            "showbackground": true,
            "ticks": "",
            "zerolinecolor": "white"
           },
           "yaxis": {
            "backgroundcolor": "#E5ECF6",
            "gridcolor": "white",
            "gridwidth": 2,
            "linecolor": "white",
            "showbackground": true,
            "ticks": "",
            "zerolinecolor": "white"
           },
           "zaxis": {
            "backgroundcolor": "#E5ECF6",
            "gridcolor": "white",
            "gridwidth": 2,
            "linecolor": "white",
            "showbackground": true,
            "ticks": "",
            "zerolinecolor": "white"
           }
          },
          "shapedefaults": {
           "line": {
            "color": "#2a3f5f"
           }
          },
          "ternary": {
           "aaxis": {
            "gridcolor": "white",
            "linecolor": "white",
            "ticks": ""
           },
           "baxis": {
            "gridcolor": "white",
            "linecolor": "white",
            "ticks": ""
           },
           "bgcolor": "#E5ECF6",
           "caxis": {
            "gridcolor": "white",
            "linecolor": "white",
            "ticks": ""
           }
          },
          "title": {
           "x": 0.05
          },
          "xaxis": {
           "automargin": true,
           "gridcolor": "white",
           "linecolor": "white",
           "ticks": "",
           "title": {
            "standoff": 15
           },
           "zerolinecolor": "white",
           "zerolinewidth": 2
          },
          "yaxis": {
           "automargin": true,
           "gridcolor": "white",
           "linecolor": "white",
           "ticks": "",
           "title": {
            "standoff": 15
           },
           "zerolinecolor": "white",
           "zerolinewidth": 2
          }
         }
        },
        "title": {
         "text": "위해품목 대분류별 신고 건수 추이"
        },
        "xaxis": {
         "anchor": "y",
         "domain": [
          0,
          1
         ],
         "title": {
          "text": "년도-분기"
         }
        },
        "yaxis": {
         "anchor": "x",
         "domain": [
          0,
          1
         ],
         "title": {
          "text": "신고 건수"
         }
        }
       }
      }
     },
     "metadata": {},
     "output_type": "display_data"
    }
   ],
   "source": [
    "import plotly.express as px\n",
    "\n",
    "df_reset1 = df_groupby1.reset_index()\n",
    "fig = px.bar(df_reset1, x='년도_분기', y='count', color = '품목대분류', barmode='group', text_auto=True)\n",
    "fig.update_traces(textposition=\"outside\")\n",
    "fig.update_layout(\n",
    "    title=\"위해품목 대분류별 신고 건수 추이\",\n",
    "    xaxis_title=\"년도-분기\",\n",
    "    yaxis_title=\"신고 건수\",\n",
    "     legend=dict(\n",
    "        title=\"\",\n",
    "        orientation=\"h\",\n",
    "        yanchor=\"bottom\",\n",
    "        y=1.07,\n",
    "        xanchor=\"center\",\n",
    "        x=0.86\n",
    "    )\n",
    ")\n",
    "fig.show()"
   ]
  },
  {
   "cell_type": "code",
   "execution_count": 133,
   "metadata": {},
   "outputs": [
    {
     "data": {
      "application/vnd.plotly.v1+json": {
       "config": {
        "plotlyServerURL": "https://plot.ly"
       },
       "data": [
        {
         "hovertemplate": "년도_분기=%{x}<br>count=%{text}<extra></extra>",
         "legendgroup": "",
         "line": {
          "color": "#636efa",
          "dash": "solid"
         },
         "marker": {
          "symbol": "circle"
         },
         "mode": "markers+text+lines",
         "name": "",
         "orientation": "v",
         "showlegend": false,
         "text": [
          11,
          21,
          17,
          31,
          36,
          22,
          50
         ],
         "textposition": "top center",
         "type": "scatter",
         "x": [
          "2021-Q3",
          "2021-Q4",
          "2022-Q1",
          "2022-Q2",
          "2022-Q3",
          "2022-Q4",
          "2023-Q1"
         ],
         "xaxis": "x",
         "y": [
          11,
          21,
          17,
          31,
          36,
          22,
          50
         ],
         "yaxis": "y"
        },
        {
         "alignmentgroup": "True",
         "hovertemplate": "품목대분류=가공식품<br>년도_분기=%{x}<br>count=%{y}<extra></extra>",
         "legendgroup": "가공식품",
         "marker": {
          "color": "#636efa",
          "pattern": {
           "shape": ""
          }
         },
         "name": "가공식품",
         "offsetgroup": "가공식품",
         "orientation": "v",
         "showlegend": true,
         "textangle": 0,
         "textfont": {
          "size": 12
         },
         "textposition": "auto",
         "texttemplate": "%{y}",
         "type": "bar",
         "x": [
          "2021-Q3",
          "2021-Q4",
          "2022-Q1",
          "2022-Q2",
          "2022-Q3",
          "2022-Q4",
          "2023-Q1"
         ],
         "xaxis": "x",
         "y": [
          6,
          15,
          16,
          19,
          25,
          16,
          33
         ],
         "yaxis": "y"
        },
        {
         "alignmentgroup": "True",
         "hovertemplate": "품목대분류=식물 식품<br>년도_분기=%{x}<br>count=%{y}<extra></extra>",
         "legendgroup": "식물 식품",
         "marker": {
          "color": "#EF553B",
          "pattern": {
           "shape": ""
          }
         },
         "name": "식물 식품",
         "offsetgroup": "식물 식품",
         "orientation": "v",
         "showlegend": true,
         "textangle": 0,
         "textfont": {
          "size": 12
         },
         "textposition": "auto",
         "texttemplate": "%{y}",
         "type": "bar",
         "x": [
          "2021-Q3",
          "2021-Q4",
          "2022-Q2",
          "2022-Q3",
          "2022-Q4",
          "2023-Q1"
         ],
         "xaxis": "x",
         "y": [
          1,
          4,
          3,
          4,
          1,
          8
         ],
         "yaxis": "y"
        },
        {
         "alignmentgroup": "True",
         "hovertemplate": "품목대분류=축산·수산물 식품<br>년도_분기=%{x}<br>count=%{y}<extra></extra>",
         "legendgroup": "축산·수산물 식품",
         "marker": {
          "color": "#00cc96",
          "pattern": {
           "shape": ""
          }
         },
         "name": "축산·수산물 식품",
         "offsetgroup": "축산·수산물 식품",
         "orientation": "v",
         "showlegend": true,
         "textangle": 0,
         "textfont": {
          "size": 12
         },
         "textposition": "auto",
         "texttemplate": "%{y}",
         "type": "bar",
         "x": [
          "2021-Q3",
          "2021-Q4",
          "2022-Q1",
          "2022-Q2",
          "2022-Q3",
          "2022-Q4",
          "2023-Q1"
         ],
         "xaxis": "x",
         "y": [
          4,
          2,
          1,
          9,
          7,
          5,
          9
         ],
         "yaxis": "y"
        }
       ],
       "layout": {
        "legend": {
         "orientation": "h",
         "title": {
          "text": ""
         },
         "x": 0.5,
         "xanchor": "center",
         "y": 1.01,
         "yanchor": "bottom"
        },
        "template": {
         "data": {
          "bar": [
           {
            "error_x": {
             "color": "#2a3f5f"
            },
            "error_y": {
             "color": "#2a3f5f"
            },
            "marker": {
             "line": {
              "color": "#E5ECF6",
              "width": 0.5
             },
             "pattern": {
              "fillmode": "overlay",
              "size": 10,
              "solidity": 0.2
             }
            },
            "type": "bar"
           }
          ],
          "barpolar": [
           {
            "marker": {
             "line": {
              "color": "#E5ECF6",
              "width": 0.5
             },
             "pattern": {
              "fillmode": "overlay",
              "size": 10,
              "solidity": 0.2
             }
            },
            "type": "barpolar"
           }
          ],
          "carpet": [
           {
            "aaxis": {
             "endlinecolor": "#2a3f5f",
             "gridcolor": "white",
             "linecolor": "white",
             "minorgridcolor": "white",
             "startlinecolor": "#2a3f5f"
            },
            "baxis": {
             "endlinecolor": "#2a3f5f",
             "gridcolor": "white",
             "linecolor": "white",
             "minorgridcolor": "white",
             "startlinecolor": "#2a3f5f"
            },
            "type": "carpet"
           }
          ],
          "choropleth": [
           {
            "colorbar": {
             "outlinewidth": 0,
             "ticks": ""
            },
            "type": "choropleth"
           }
          ],
          "contour": [
           {
            "colorbar": {
             "outlinewidth": 0,
             "ticks": ""
            },
            "colorscale": [
             [
              0,
              "#0d0887"
             ],
             [
              0.1111111111111111,
              "#46039f"
             ],
             [
              0.2222222222222222,
              "#7201a8"
             ],
             [
              0.3333333333333333,
              "#9c179e"
             ],
             [
              0.4444444444444444,
              "#bd3786"
             ],
             [
              0.5555555555555556,
              "#d8576b"
             ],
             [
              0.6666666666666666,
              "#ed7953"
             ],
             [
              0.7777777777777778,
              "#fb9f3a"
             ],
             [
              0.8888888888888888,
              "#fdca26"
             ],
             [
              1,
              "#f0f921"
             ]
            ],
            "type": "contour"
           }
          ],
          "contourcarpet": [
           {
            "colorbar": {
             "outlinewidth": 0,
             "ticks": ""
            },
            "type": "contourcarpet"
           }
          ],
          "heatmap": [
           {
            "colorbar": {
             "outlinewidth": 0,
             "ticks": ""
            },
            "colorscale": [
             [
              0,
              "#0d0887"
             ],
             [
              0.1111111111111111,
              "#46039f"
             ],
             [
              0.2222222222222222,
              "#7201a8"
             ],
             [
              0.3333333333333333,
              "#9c179e"
             ],
             [
              0.4444444444444444,
              "#bd3786"
             ],
             [
              0.5555555555555556,
              "#d8576b"
             ],
             [
              0.6666666666666666,
              "#ed7953"
             ],
             [
              0.7777777777777778,
              "#fb9f3a"
             ],
             [
              0.8888888888888888,
              "#fdca26"
             ],
             [
              1,
              "#f0f921"
             ]
            ],
            "type": "heatmap"
           }
          ],
          "heatmapgl": [
           {
            "colorbar": {
             "outlinewidth": 0,
             "ticks": ""
            },
            "colorscale": [
             [
              0,
              "#0d0887"
             ],
             [
              0.1111111111111111,
              "#46039f"
             ],
             [
              0.2222222222222222,
              "#7201a8"
             ],
             [
              0.3333333333333333,
              "#9c179e"
             ],
             [
              0.4444444444444444,
              "#bd3786"
             ],
             [
              0.5555555555555556,
              "#d8576b"
             ],
             [
              0.6666666666666666,
              "#ed7953"
             ],
             [
              0.7777777777777778,
              "#fb9f3a"
             ],
             [
              0.8888888888888888,
              "#fdca26"
             ],
             [
              1,
              "#f0f921"
             ]
            ],
            "type": "heatmapgl"
           }
          ],
          "histogram": [
           {
            "marker": {
             "pattern": {
              "fillmode": "overlay",
              "size": 10,
              "solidity": 0.2
             }
            },
            "type": "histogram"
           }
          ],
          "histogram2d": [
           {
            "colorbar": {
             "outlinewidth": 0,
             "ticks": ""
            },
            "colorscale": [
             [
              0,
              "#0d0887"
             ],
             [
              0.1111111111111111,
              "#46039f"
             ],
             [
              0.2222222222222222,
              "#7201a8"
             ],
             [
              0.3333333333333333,
              "#9c179e"
             ],
             [
              0.4444444444444444,
              "#bd3786"
             ],
             [
              0.5555555555555556,
              "#d8576b"
             ],
             [
              0.6666666666666666,
              "#ed7953"
             ],
             [
              0.7777777777777778,
              "#fb9f3a"
             ],
             [
              0.8888888888888888,
              "#fdca26"
             ],
             [
              1,
              "#f0f921"
             ]
            ],
            "type": "histogram2d"
           }
          ],
          "histogram2dcontour": [
           {
            "colorbar": {
             "outlinewidth": 0,
             "ticks": ""
            },
            "colorscale": [
             [
              0,
              "#0d0887"
             ],
             [
              0.1111111111111111,
              "#46039f"
             ],
             [
              0.2222222222222222,
              "#7201a8"
             ],
             [
              0.3333333333333333,
              "#9c179e"
             ],
             [
              0.4444444444444444,
              "#bd3786"
             ],
             [
              0.5555555555555556,
              "#d8576b"
             ],
             [
              0.6666666666666666,
              "#ed7953"
             ],
             [
              0.7777777777777778,
              "#fb9f3a"
             ],
             [
              0.8888888888888888,
              "#fdca26"
             ],
             [
              1,
              "#f0f921"
             ]
            ],
            "type": "histogram2dcontour"
           }
          ],
          "mesh3d": [
           {
            "colorbar": {
             "outlinewidth": 0,
             "ticks": ""
            },
            "type": "mesh3d"
           }
          ],
          "parcoords": [
           {
            "line": {
             "colorbar": {
              "outlinewidth": 0,
              "ticks": ""
             }
            },
            "type": "parcoords"
           }
          ],
          "pie": [
           {
            "automargin": true,
            "type": "pie"
           }
          ],
          "scatter": [
           {
            "fillpattern": {
             "fillmode": "overlay",
             "size": 10,
             "solidity": 0.2
            },
            "type": "scatter"
           }
          ],
          "scatter3d": [
           {
            "line": {
             "colorbar": {
              "outlinewidth": 0,
              "ticks": ""
             }
            },
            "marker": {
             "colorbar": {
              "outlinewidth": 0,
              "ticks": ""
             }
            },
            "type": "scatter3d"
           }
          ],
          "scattercarpet": [
           {
            "marker": {
             "colorbar": {
              "outlinewidth": 0,
              "ticks": ""
             }
            },
            "type": "scattercarpet"
           }
          ],
          "scattergeo": [
           {
            "marker": {
             "colorbar": {
              "outlinewidth": 0,
              "ticks": ""
             }
            },
            "type": "scattergeo"
           }
          ],
          "scattergl": [
           {
            "marker": {
             "colorbar": {
              "outlinewidth": 0,
              "ticks": ""
             }
            },
            "type": "scattergl"
           }
          ],
          "scattermapbox": [
           {
            "marker": {
             "colorbar": {
              "outlinewidth": 0,
              "ticks": ""
             }
            },
            "type": "scattermapbox"
           }
          ],
          "scatterpolar": [
           {
            "marker": {
             "colorbar": {
              "outlinewidth": 0,
              "ticks": ""
             }
            },
            "type": "scatterpolar"
           }
          ],
          "scatterpolargl": [
           {
            "marker": {
             "colorbar": {
              "outlinewidth": 0,
              "ticks": ""
             }
            },
            "type": "scatterpolargl"
           }
          ],
          "scatterternary": [
           {
            "marker": {
             "colorbar": {
              "outlinewidth": 0,
              "ticks": ""
             }
            },
            "type": "scatterternary"
           }
          ],
          "surface": [
           {
            "colorbar": {
             "outlinewidth": 0,
             "ticks": ""
            },
            "colorscale": [
             [
              0,
              "#0d0887"
             ],
             [
              0.1111111111111111,
              "#46039f"
             ],
             [
              0.2222222222222222,
              "#7201a8"
             ],
             [
              0.3333333333333333,
              "#9c179e"
             ],
             [
              0.4444444444444444,
              "#bd3786"
             ],
             [
              0.5555555555555556,
              "#d8576b"
             ],
             [
              0.6666666666666666,
              "#ed7953"
             ],
             [
              0.7777777777777778,
              "#fb9f3a"
             ],
             [
              0.8888888888888888,
              "#fdca26"
             ],
             [
              1,
              "#f0f921"
             ]
            ],
            "type": "surface"
           }
          ],
          "table": [
           {
            "cells": {
             "fill": {
              "color": "#EBF0F8"
             },
             "line": {
              "color": "white"
             }
            },
            "header": {
             "fill": {
              "color": "#C8D4E3"
             },
             "line": {
              "color": "white"
             }
            },
            "type": "table"
           }
          ]
         },
         "layout": {
          "annotationdefaults": {
           "arrowcolor": "#2a3f5f",
           "arrowhead": 0,
           "arrowwidth": 1
          },
          "autotypenumbers": "strict",
          "coloraxis": {
           "colorbar": {
            "outlinewidth": 0,
            "ticks": ""
           }
          },
          "colorscale": {
           "diverging": [
            [
             0,
             "#8e0152"
            ],
            [
             0.1,
             "#c51b7d"
            ],
            [
             0.2,
             "#de77ae"
            ],
            [
             0.3,
             "#f1b6da"
            ],
            [
             0.4,
             "#fde0ef"
            ],
            [
             0.5,
             "#f7f7f7"
            ],
            [
             0.6,
             "#e6f5d0"
            ],
            [
             0.7,
             "#b8e186"
            ],
            [
             0.8,
             "#7fbc41"
            ],
            [
             0.9,
             "#4d9221"
            ],
            [
             1,
             "#276419"
            ]
           ],
           "sequential": [
            [
             0,
             "#0d0887"
            ],
            [
             0.1111111111111111,
             "#46039f"
            ],
            [
             0.2222222222222222,
             "#7201a8"
            ],
            [
             0.3333333333333333,
             "#9c179e"
            ],
            [
             0.4444444444444444,
             "#bd3786"
            ],
            [
             0.5555555555555556,
             "#d8576b"
            ],
            [
             0.6666666666666666,
             "#ed7953"
            ],
            [
             0.7777777777777778,
             "#fb9f3a"
            ],
            [
             0.8888888888888888,
             "#fdca26"
            ],
            [
             1,
             "#f0f921"
            ]
           ],
           "sequentialminus": [
            [
             0,
             "#0d0887"
            ],
            [
             0.1111111111111111,
             "#46039f"
            ],
            [
             0.2222222222222222,
             "#7201a8"
            ],
            [
             0.3333333333333333,
             "#9c179e"
            ],
            [
             0.4444444444444444,
             "#bd3786"
            ],
            [
             0.5555555555555556,
             "#d8576b"
            ],
            [
             0.6666666666666666,
             "#ed7953"
            ],
            [
             0.7777777777777778,
             "#fb9f3a"
            ],
            [
             0.8888888888888888,
             "#fdca26"
            ],
            [
             1,
             "#f0f921"
            ]
           ]
          },
          "colorway": [
           "#636efa",
           "#EF553B",
           "#00cc96",
           "#ab63fa",
           "#FFA15A",
           "#19d3f3",
           "#FF6692",
           "#B6E880",
           "#FF97FF",
           "#FECB52"
          ],
          "font": {
           "color": "#2a3f5f"
          },
          "geo": {
           "bgcolor": "white",
           "lakecolor": "white",
           "landcolor": "#E5ECF6",
           "showlakes": true,
           "showland": true,
           "subunitcolor": "white"
          },
          "hoverlabel": {
           "align": "left"
          },
          "hovermode": "closest",
          "mapbox": {
           "style": "light"
          },
          "paper_bgcolor": "white",
          "plot_bgcolor": "#E5ECF6",
          "polar": {
           "angularaxis": {
            "gridcolor": "white",
            "linecolor": "white",
            "ticks": ""
           },
           "bgcolor": "#E5ECF6",
           "radialaxis": {
            "gridcolor": "white",
            "linecolor": "white",
            "ticks": ""
           }
          },
          "scene": {
           "xaxis": {
            "backgroundcolor": "#E5ECF6",
            "gridcolor": "white",
            "gridwidth": 2,
            "linecolor": "white",
            "showbackground": true,
            "ticks": "",
            "zerolinecolor": "white"
           },
           "yaxis": {
            "backgroundcolor": "#E5ECF6",
            "gridcolor": "white",
            "gridwidth": 2,
            "linecolor": "white",
            "showbackground": true,
            "ticks": "",
            "zerolinecolor": "white"
           },
           "zaxis": {
            "backgroundcolor": "#E5ECF6",
            "gridcolor": "white",
            "gridwidth": 2,
            "linecolor": "white",
            "showbackground": true,
            "ticks": "",
            "zerolinecolor": "white"
           }
          },
          "shapedefaults": {
           "line": {
            "color": "#2a3f5f"
           }
          },
          "ternary": {
           "aaxis": {
            "gridcolor": "white",
            "linecolor": "white",
            "ticks": ""
           },
           "baxis": {
            "gridcolor": "white",
            "linecolor": "white",
            "ticks": ""
           },
           "bgcolor": "#E5ECF6",
           "caxis": {
            "gridcolor": "white",
            "linecolor": "white",
            "ticks": ""
           }
          },
          "title": {
           "x": 0.05
          },
          "xaxis": {
           "automargin": true,
           "gridcolor": "white",
           "linecolor": "white",
           "ticks": "",
           "title": {
            "standoff": 15
           },
           "zerolinecolor": "white",
           "zerolinewidth": 2
          },
          "yaxis": {
           "automargin": true,
           "gridcolor": "white",
           "linecolor": "white",
           "ticks": "",
           "title": {
            "standoff": 15
           },
           "zerolinecolor": "white",
           "zerolinewidth": 2
          }
         }
        },
        "title": {
         "text": "한국소비자원 소비자 위해 정보: 식품-알레르기 전체/품목대분류별 신고 접수건수",
         "x": 0.5,
         "xanchor": "center"
        },
        "xaxis": {
         "title": {
          "text": "년도-분기"
         }
        },
        "yaxis": {
         "title": {
          "text": "신고 건수"
         }
        }
       }
      }
     },
     "metadata": {},
     "output_type": "display_data"
    }
   ],
   "source": [
    "import plotly.express as px\n",
    "import plotly.graph_objects as go\n",
    "\n",
    "df_reset = df_groupby.reset_index()\n",
    "fig1 = px.line(df_reset, x='년도_분기', y='count', text=\"count\")\n",
    "fig1.update_traces(textposition=\"top center\")\n",
    "fig1.update_layout(\n",
    "    title=\"한국소비자원 소비자 위해 정보: 식품-알레르기 신고 접수건수\",\n",
    "    xaxis_title=\"년도-분기\",\n",
    "    yaxis_title=\"신고 건수\"\n",
    ")\n",
    "\n",
    "df_reset1 = df_groupby1.reset_index()\n",
    "fig2 = px.bar(df_reset1, x='년도_분기', y='count', color='품목대분류', barmode='group', text_auto=True)\n",
    "fig2.update_traces(textposition=\"auto\", textfont=dict(size=12), textangle=0)\n",
    "fig2.update_layout(\n",
    "    title=\"위해품목 대분류별 신고 건수 추이\",\n",
    "    xaxis_title=\"년도-분기\",\n",
    "    yaxis_title=\"신고 건수\",\n",
    "    \n",
    ")\n",
    "\n",
    "# 겹쳐진 그래프 생성\n",
    "fig_combined = go.Figure()\n",
    "\n",
    "# Line 그래프를 추가합니다.\n",
    "for data in fig1.data:\n",
    "    fig_combined.add_trace(data)\n",
    "\n",
    "# Bar 그래프를 추가합니다.\n",
    "for data in fig2.data:\n",
    "    fig_combined.add_trace(data)\n",
    "\n",
    "fig_combined.update_layout(\n",
    "    title=dict(\n",
    "        text=\"한국소비자원 소비자 위해 정보: 식품-알레르기 전체/품목대분류별 신고 접수건수\",\n",
    "        x=0.5,\n",
    "        xanchor=\"center\"\n",
    "    ),\n",
    "    xaxis_title=\"년도-분기\",\n",
    "    yaxis_title=\"신고 건수\",\n",
    "    legend=dict(\n",
    "        title=\"\",\n",
    "        orientation=\"h\",\n",
    "        yanchor=\"bottom\",\n",
    "        y=1.01,\n",
    "        xanchor=\"center\",\n",
    "        x=0.5)\n",
    ")\n",
    "\n",
    "fig_combined.show()\n"
   ]
  }
 ],
 "metadata": {
  "kernelspec": {
   "display_name": "Python 3",
   "language": "python",
   "name": "python3"
  },
  "language_info": {
   "codemirror_mode": {
    "name": "ipython",
    "version": 3
   },
   "file_extension": ".py",
   "mimetype": "text/x-python",
   "name": "python",
   "nbconvert_exporter": "python",
   "pygments_lexer": "ipython3",
   "version": "3.10.10"
  },
  "orig_nbformat": 4
 },
 "nbformat": 4,
 "nbformat_minor": 2
}
