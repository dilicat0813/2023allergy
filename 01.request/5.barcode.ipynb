{
 "cells": [
  {
   "cell_type": "code",
   "execution_count": null,
   "metadata": {},
   "outputs": [],
   "source": [
    "!pip install opencv-python\n",
    "!pip install numpy\n",
    "!pip install pyzbar"
   ]
  },
  {
   "cell_type": "code",
   "execution_count": null,
   "metadata": {},
   "outputs": [],
   "source": [
    "'''\n",
    "made by 안산드레이아스\n",
    "https://ansan-survivor.tistory.com/\n",
    "\n",
    "'''\n"
   ]
  },
  {
   "cell_type": "code",
   "execution_count": 1,
   "metadata": {},
   "outputs": [
    {
     "name": "stdout",
     "output_type": "stream",
     "text": [
      "Type:  CODE128\n",
      "Data:  b'6100016300632' \n",
      "\n"
     ]
    }
   ],
   "source": [
    "import cv2\n",
    "import numpy as np\n",
    "import pyzbar.pyzbar as pyzbar\n",
    "from tkinter import Tk, filedialog\n",
    "import shutil\n",
    "import os\n",
    "\n",
    "# 바코드 탐지하는 엔진 (바코드 및 QR코드 탐지)\n",
    "def decode(im):\n",
    "    # Find barcodes and QR codes\n",
    "    decodedObjects = pyzbar.decode(im)\n",
    "\n",
    "    # Print results\n",
    "    for obj in decodedObjects:\n",
    "        print('Type: ', obj.type)\n",
    "        print('Data: ', obj.data, '\\n')\n",
    "\n",
    "    return decodedObjects\n",
    "\n",
    "\n",
    "# Display barcode and QR code location\n",
    "def display(im, decodedObjects):\n",
    "    # Loop over all decoded objects\n",
    "    for decodedObject in decodedObjects:\n",
    "        points = decodedObject.polygon\n",
    "\n",
    "        # If the points do not form a quad, find convex hull\n",
    "        if len(points) > 4:\n",
    "            hull = cv2.convexHull(np.array([point for point in points], dtype=np.float32))\n",
    "            hull = list(map(tuple, np.squeeze(hull)))\n",
    "        else:\n",
    "            hull = points\n",
    "\n",
    "        # Number of points in the convex hull\n",
    "        n = len(hull)\n",
    "\n",
    "        # Draw the convex hull\n",
    "        for j in range(0, n):\n",
    "            cv2.line(im, tuple(map(int, hull[j])), tuple(map(int, hull[(j + 1) % n])), (255, 0, 0), 3)  # 코드 에러있어서 수정\n",
    "\n",
    "    # Display results\n",
    "    cv2.imshow(\"Results\", im)\n",
    "    cv2.waitKey(0)\n",
    "\n",
    "\n",
    "def select_file():\n",
    "    Tk().withdraw()  # Hide the Tkinter main window\n",
    "    file_path = filedialog.askopenfilename(filetypes=[(\"Image files\", \"*.jpg;*.jpeg;*.png\")])\n",
    "    return file_path\n",
    "\n",
    "\n",
    "if __name__ == '__main__':\n",
    "    # Select file\n",
    "    file_path = select_file()\n",
    "\n",
    "    if file_path:\n",
    "        # Copy image file to 'dump' folder with the same extension\n",
    "        folder_path = 'dump'\n",
    "        if not os.path.exists(folder_path):\n",
    "            os.makedirs(folder_path)\n",
    "\n",
    "        # Get the filename and extension\n",
    "        file_name = os.path.basename(file_path)\n",
    "        file_extension = os.path.splitext(file_name)[1]\n",
    "\n",
    "        # Copy the file to 'dump' folder\n",
    "        new_file_path = os.path.join(folder_path, file_name)\n",
    "        shutil.copyfile(file_path, new_file_path)\n",
    "\n",
    "        # Read the copied image file\n",
    "        try:\n",
    "            im = cv2.imread(new_file_path)\n",
    "\n",
    "            if im is not None:\n",
    "                decodedObjects = decode(im)\n",
    "                display(im, decodedObjects)\n",
    "            else:\n",
    "                print(\"Failed to read the image.\")\n",
    "        except Exception as e:\n",
    "            print(\"Error occurred while reading the image:\", str(e))\n",
    "\n",
    "        # Remove the copied image file\n",
    "        os.remove(new_file_path)\n",
    "        os.rmdir(folder_path)\n",
    "    else:\n",
    "        print(\"No file selected.\")\n"
   ]
  },
  {
   "cell_type": "code",
   "execution_count": null,
   "metadata": {},
   "outputs": [],
   "source": []
  },
  {
   "cell_type": "code",
   "execution_count": null,
   "metadata": {},
   "outputs": [],
   "source": []
  }
 ],
 "metadata": {
  "kernelspec": {
   "display_name": "Python 3",
   "language": "python",
   "name": "python3"
  },
  "language_info": {
   "codemirror_mode": {
    "name": "ipython",
    "version": 3
   },
   "file_extension": ".py",
   "mimetype": "text/x-python",
   "name": "python",
   "nbconvert_exporter": "python",
   "pygments_lexer": "ipython3",
   "version": "3.10.10"
  },
  "orig_nbformat": 4
 },
 "nbformat": 4,
 "nbformat_minor": 2
}
