{
 "cells": [
  {
   "cell_type": "code",
   "execution_count": null,
   "metadata": {},
   "outputs": [],
   "source": [
    "!pip install pymysql"
   ]
  },
  {
   "cell_type": "code",
   "execution_count": 1,
   "metadata": {},
   "outputs": [],
   "source": [
    "import pymysql"
   ]
  },
  {
   "cell_type": "code",
   "execution_count": null,
   "metadata": {},
   "outputs": [],
   "source": [
    "conn - pymysql.connet(host='localhost', user='mkh0813', password ='Mylord100$', db='allergy', charset='utf8')"
   ]
  },
  {
   "cell_type": "code",
   "execution_count": null,
   "metadata": {},
   "outputs": [],
   "source": [
    "curs = conn.cursor()\n",
    "sql = 'select * from user'\n",
    "curs.execute(sql)\n",
    "rows = curs.fetchall() "
   ]
  },
  {
   "cell_type": "code",
   "execution_count": null,
   "metadata": {},
   "outputs": [],
   "source": [
    "print(rows)"
   ]
  },
  {
   "cell_type": "code",
   "execution_count": null,
   "metadata": {},
   "outputs": [],
   "source": [
    "import csv\n",
    "import pymysql\n",
    "\n",
    "# MySQL 서버에 연결합니다.\n",
    "conn = pymysql.connect(host='localhost', user='username', password='password', db='database_name', charset='utf8')\n",
    "\n",
    "# CSV 파일을 읽습니다.\n",
    "csv_data = csv.reader(open('file.csv'))\n",
    "\n",
    "# 데이터를 MySQL 데이터베이스에 삽입합니다.\n",
    "cursor = conn.cursor()\n",
    "for row in csv_data:\n",
    "    cursor.execute('INSERT INTO table_name(column1, column2, column3) VALUES(%s, %s, %s)', row)\n",
    "conn.commit()\n",
    "\n",
    "# 연결을 닫습니다.\n",
    "cursor.close()\n",
    "conn.close()\n"
   ]
  }
 ],
 "metadata": {
  "kernelspec": {
   "display_name": "Python 3",
   "language": "python",
   "name": "python3"
  },
  "language_info": {
   "codemirror_mode": {
    "name": "ipython",
    "version": 3
   },
   "file_extension": ".py",
   "mimetype": "text/x-python",
   "name": "python",
   "nbconvert_exporter": "python",
   "pygments_lexer": "ipython3",
   "version": "3.10.9"
  },
  "orig_nbformat": 4
 },
 "nbformat": 4,
 "nbformat_minor": 2
}
