{
 "cells": [
  {
   "cell_type": "code",
   "execution_count": 1,
   "metadata": {},
   "outputs": [],
   "source": [
    "import pandas as pd\n",
    "import numpy as np"
   ]
  },
  {
   "cell_type": "code",
   "execution_count": 2,
   "metadata": {},
   "outputs": [],
   "source": [
    "df = pd.read_csv('data/data_total.csv')"
   ]
  },
  {
   "cell_type": "code",
   "execution_count": 3,
   "metadata": {},
   "outputs": [
    {
     "data": {
      "text/plain": [
       "rnum                0\n",
       "prdlstReportNo      0\n",
       "productGb           0\n",
       "prdlstNm            0\n",
       "rawmtrl             0\n",
       "allergy            19\n",
       "prdkind             1\n",
       "prdkindstate        2\n",
       "manufacture         0\n",
       "imgurl1             0\n",
       "imgurl2             0\n",
       "nutrient          300\n",
       "seller            194\n",
       "barcode           321\n",
       "capacity          367\n",
       "dtype: int64"
      ]
     },
     "execution_count": 3,
     "metadata": {},
     "output_type": "execute_result"
    }
   ],
   "source": [
    "df.isnull().sum()\n",
    "#1. 바코드 nan --> 알수없음\n",
    "#2. capacity nan --> 알수없음\n",
    "#3, seller --> 알수없음\n",
    "#4. 영양 --> 알수 없음\n",
    "#5. prdkindstate --> 알수 없음\n",
    "#6. prdkind --> 알수없음\n",
    "#allergy 19 null--> 알수없음\n"
   ]
  },
  {
   "cell_type": "code",
   "execution_count": 4,
   "metadata": {},
   "outputs": [],
   "source": [
    "df_allergy = df[['rnum','rawmtrl','allergy']]\n",
    "df_allergy = pd.DataFrame(df_allergy)\n",
    "df_allergy = df_allergy.fillna('알수없음')"
   ]
  },
  {
   "attachments": {},
   "cell_type": "markdown",
   "metadata": {},
   "source": [
    "# 전처리"
   ]
  },
  {
   "attachments": {},
   "cell_type": "markdown",
   "metadata": {},
   "source": [
    "## 1. 맞춤법"
   ]
  },
  {
   "cell_type": "code",
   "execution_count": 5,
   "metadata": {},
   "outputs": [],
   "source": [
    "#치명적 오탈자 교체\n",
    "df_allergy['allergy'] = df_allergy['allergy'].str.replace('복훙아', '복숭아')\n",
    "df_allergy['allergy'] = df_allergy['allergy'].str.replace('함유식품', '')\n",
    "df_allergy['allergy'] = df_allergy['allergy'].str.replace('식품', '')\n",
    "df_allergy['allergy'] = df_allergy['allergy'].str.replace(' 함유', '')\n",
    "df_allergy['allergy'] = df_allergy['allergy'].str.replace('함유', '')\n",
    "df_allergy['allergy'] = df_allergy['allergy'].str.replace('함류', '')\n",
    "df_allergy['allergy'] = df_allergy['allergy'].str.replace('포함', '')\n",
    "df_allergy['allergy'] = df_allergy['allergy'].str.replace('소고기', '쇠고기')\n",
    "df_allergy['allergy'] = df_allergy['allergy'].str.replace('괘지', '돼지')\n",
    "df_allergy['allergy'] = df_allergy['allergy'].str.replace('돼고기', '돼지고기')\n",
    "df_allergy['allergy'] = df_allergy['allergy'].str.replace('오지엉', '오징어')\n",
    "df_allergy['allergy'] = df_allergy['allergy'].str.replace('날류','난류')\n",
    "df_allergy['allergy'] = df_allergy['allergy'].str.replace('유우','우유')\n",
    "df_allergy['allergy'] = df_allergy['allergy'].str.replace('유유','우유')\n",
    "df_allergy['allergy'] = df_allergy['allergy'].str.replace('우류','우유')\n",
    "df_allergy['allergy'] = df_allergy['allergy'].str.replace('탕콩','땅콩')\n",
    "df_allergy['allergy'] = df_allergy['allergy'].str.replace('대듀','대두')\n",
    "df_allergy['allergy'] = df_allergy['allergy'].str.replace('토마투','토마토')\n",
    "df_allergy['allergy'] = df_allergy['allergy'].str.replace('토마도','토마토')\n",
    "df_allergy['allergy'] = df_allergy['allergy'].str.replace('토미토','토마토')\n",
    "df_allergy['allergy'] = df_allergy['allergy'].str.replace('이황산류', '아황산류')\n",
    "df_allergy['allergy'] = df_allergy['allergy'].str.replace('이황산','아황산')\n",
    "df_allergy['allergy'] = df_allergy['allergy'].str.replace('이산화항','이산화황')\n",
    "df_allergy['allergy'] = df_allergy['allergy'].str.replace('아산화류', '아황산류')\n",
    "df_allergy['allergy'] = df_allergy['allergy'].str.replace('아산화','이산화')\n",
    "df_allergy['allergy'] = df_allergy['allergy'].str.replace('아산화항','이산화황')\n",
    "df_allergy['allergy'] = df_allergy['allergy'].str.replace('쇠구기','쇠고기')\n",
    "df_allergy['allergy'] = df_allergy['allergy'].str.replace('·',' ')\n",
    "df_allergy['allergy'] = df_allergy['allergy'].str.replace('토마','토마토')\n",
    "df_allergy['allergy'] = df_allergy['allergy'].str.replace('토마토토','토마토')\n",
    "df_allergy['allergy'] = df_allergy['allergy'].str.replace('게란','계란')\n",
    "df_allergy.loc[14737, 'allergy'] = '밀, 대두, 계란, 우유, 게, 오징어, 새우, 쇠고기, 조개류'\n",
    "df_allergy['allergy'] = df_allergy['allergy'].str.replace('닭괴','닭고기')\n",
    "df_allergy['allergy'] = df_allergy['allergy'].str.replace('쇠소기','쇠고기')\n",
    "df_allergy['allergy'] = df_allergy['allergy'].str.replace('호도','호두')\n",
    "df_allergy['allergy'] = df_allergy['allergy'].str.replace('조래규','조개류')\n",
    "df_allergy['allergy'] = df_allergy['allergy'].str.replace('굴','조개류')\n",
    "df_allergy['allergy'] = df_allergy['allergy'].str.replace('홍합','조개류')\n",
    "df_allergy['allergy'] = df_allergy['allergy'].str.replace('바지락','조개류')\n",
    "df_allergy['allergy'] = df_allergy['allergy'].str.replace('백합','조개류') \n",
    "df_allergy['allergy'] = df_allergy['allergy'].str.replace('등','') "
   ]
  },
  {
   "cell_type": "code",
   "execution_count": 6,
   "metadata": {},
   "outputs": [],
   "source": [
    "import re #조개류 통일\n",
    "pattern = r'조개류\\([^\\)]+\\)'\n",
    "df_allergy['allergy'] = [re.sub(pattern, '조개류', s) for s in df_allergy['allergy']]\n",
    "df_allergy['allergy'] = [re.sub(pattern, '조개류', s) for s in df_allergy['allergy']]"
   ]
  },
  {
   "cell_type": "code",
   "execution_count": null,
   "metadata": {},
   "outputs": [],
   "source": [
    "# rawmtrl 맞춤법 검사\n",
    "from hanspell import spell_checker\n",
    "import json\n",
    "df_allergy['rawmtrl_checked'] = \"\"\n",
    "datas = df_allergy['rawmtrl'] \n",
    "for i, n in enumerate(datas):\n",
    "    try: \n",
    "        input = n.replace(\"&\",\"\").replace(\"*\",\"\").replace(\"{\",\"\").replace(\"}\",\"\").replace(\"/\",\"\") #&가 있으면 xml 문자열에서 에러를 일으킴\n",
    "        result = spell_checker.check(input)\n",
    "        result_dict = result.as_dict()\n",
    "        df_allergy.at[i, 'rawmtrl_checked'] = result_dict['checked']\n",
    "    except:\n",
    "        df_allergy.at[i, 'rawmtrl_checked'] = n+\"패스\"\n",
    "        pass\n",
    "\n",
    "#88분 걸림"
   ]
  },
  {
   "cell_type": "code",
   "execution_count": null,
   "metadata": {},
   "outputs": [],
   "source": [
    "# # allergy 맞춤법 검사 오히려 오타가 늘어..ㅋㅋㅋ\n",
    "# df_allergy['allergy_checked'] = \"\"\n",
    "# datas = df_allergy['allergy'] \n",
    "# for i, n in enumerate(datas):\n",
    "#     input = n.replace(\"&\",\"\")\n",
    "#     result = spell_checker.check(input)\n",
    "#     result_dict = result.as_dict()\n",
    "#     df_allergy.at[i, 'allergy_checked'] = result_dict['checked']"
   ]
  },
  {
   "cell_type": "code",
   "execution_count": null,
   "metadata": {},
   "outputs": [],
   "source": [
    "df_allergy[df_allergy['rawmtrl_checked'].str.contains('패스')]"
   ]
  },
  {
   "attachments": {},
   "cell_type": "markdown",
   "metadata": {},
   "source": [
    "## 2. null, 특이사례, 불필요 대상 "
   ]
  },
  {
   "cell_type": "code",
   "execution_count": null,
   "metadata": {},
   "outputs": [],
   "source": [
    "#알러지2칼럼만 사용\n",
    "#자연어 처리를 통해 rawmtrl 중 알러지 유발 가능 대상을 mtr_allergy에 추가할 수 있음 (1번은 새우, 멸치가 알러지 유발 대상인데, 알러지 정보는 없다고 나와 있음) --> 새로운 컬럼으로 배당, 제공정보 중 제품에서 분석된 것으로 설명\n",
    "#allergy의 없음, 알수 없음, null에 해당하는 대상들을 자연어 처리로 해결\n",
    "#분류된 알러지 정보들을 숫자로 변환, 취합\n",
    "#단, 페닐알라닌과 같이 19개의 번호에 포함되지 않는 경우, 기타(페닐알라닌,.... ) 과 같이 표기할 수 있도록 함\n",
    "#\n"
   ]
  },
  {
   "cell_type": "code",
   "execution_count": 7,
   "metadata": {},
   "outputs": [],
   "source": [
    "df_allergy.to_csv('data/data_unchecked.csv')"
   ]
  },
  {
   "attachments": {},
   "cell_type": "markdown",
   "metadata": {},
   "source": [
    "# 알러지 딕셔너리, 파일로 저장"
   ]
  },
  {
   "cell_type": "code",
   "execution_count": null,
   "metadata": {},
   "outputs": [],
   "source": [
    "allergy = ['알류(가금류)', '우유', '메밀', '땅콩', '대두', '밀', '고등어', '게', '새우', '돼지고기', '복숭아', '토마토', '아황산류', '호두', '닭고기', '쇠고기', '오징어', '조개류', '잣']\n",
    "allergy_dict = {1: '알류(가금류)', 2: '우유', 3: '메밀', 4: '땅콩', 5: '대두', 6: '밀', 7: '고등어', 8: '게', 9: '새우', 10: '돼지고기', 11: '복숭아', 12: '토마토', 13: '아황산류', 14: '호두', 15: '닭고기', 16: '쇠고기', 17: '오징어', 18: '조개류', 19: '잣'}\n",
    "allergy = pd.DataFrame(allergy)\n",
    "allergy.reset_index(inplace=True)\n",
    "allergy['index']= allergy['index']+1\n",
    "allergy.to_csv('data/allergy_table.csv')"
   ]
  },
  {
   "attachments": {},
   "cell_type": "markdown",
   "metadata": {},
   "source": [
    "# 알러지에 문자열 넣은 경우 확인"
   ]
  },
  {
   "cell_type": "code",
   "execution_count": 8,
   "metadata": {},
   "outputs": [],
   "source": [
    "# ',' 로 구분된 열들을 분리하여 리스트로 변환\n",
    "allergy_list = df_allergy['allergy'].str.split(',')\n",
    "\n",
    "# 리스트를 바탕으로 새로운 열들을 생성\n",
    "new_columns = ['allergy_{}'.format(i+1) for i in range(allergy_list.str.len().max())]\n",
    "new_df = df_allergy.assign(**{col: allergy_list.str[i] for i, col in enumerate(new_columns)}) #대충 분리가능한지 검토 "
   ]
  },
  {
   "cell_type": "code",
   "execution_count": null,
   "metadata": {},
   "outputs": [],
   "source": [
    "new_df[new_df['allergy_20'].notnull()] #아래 있는 것들은 아마도 성분 그냥 때려박은 것으로 보임 "
   ]
  },
  {
   "cell_type": "code",
   "execution_count": 9,
   "metadata": {},
   "outputs": [],
   "source": [
    "new_df.to_csv('data/allergy_search_0504.csv')"
   ]
  },
  {
   "cell_type": "code",
   "execution_count": null,
   "metadata": {},
   "outputs": [],
   "source": [
    "new_df['allergy_20'].unique()"
   ]
  },
  {
   "cell_type": "code",
   "execution_count": null,
   "metadata": {},
   "outputs": [],
   "source": [
    "new_df[new_df['allergy_5'] == \" 계\"]"
   ]
  },
  {
   "cell_type": "code",
   "execution_count": null,
   "metadata": {},
   "outputs": [],
   "source": [
    "df = pd.read_csv('data/allergy_search_0504.csv')\n",
    "df['allergy_1'].unique()"
   ]
  }
 ],
 "metadata": {
  "kernelspec": {
   "display_name": "Python 3",
   "language": "python",
   "name": "python3"
  },
  "language_info": {
   "codemirror_mode": {
    "name": "ipython",
    "version": 3
   },
   "file_extension": ".py",
   "mimetype": "text/x-python",
   "name": "python",
   "nbconvert_exporter": "python",
   "pygments_lexer": "ipython3",
   "version": "3.10.10"
  },
  "orig_nbformat": 4
 },
 "nbformat": 4,
 "nbformat_minor": 2
}
