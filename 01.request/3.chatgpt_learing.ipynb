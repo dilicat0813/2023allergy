{
 "cells": [
  {
   "cell_type": "code",
   "execution_count": null,
   "metadata": {},
   "outputs": [],
   "source": [
    "#현재 수준에서 진행이 안되는 것으로 확인, diff(닭고기 소고기 쇠고기 구분 못함)나 kolnpy 수준에서 단순 대조만 가능 "
   ]
  },
  {
   "cell_type": "code",
   "execution_count": 5,
   "metadata": {},
   "outputs": [],
   "source": [
    "!pip install konlpy"
   ]
  },
  {
   "cell_type": "code",
   "execution_count": 5,
   "metadata": {},
   "outputs": [
    {
     "name": "stdout",
     "output_type": "stream",
     "text": [
      "[5, 4, 2, 16, 9]\n"
     ]
    }
   ],
   "source": [
    "allergy_dict = {1: ['알류(가금류)','계란'], 2: '우유', 3: '메밀', 4: '땅콩', 5: ['대두','콩'], 6: '밀', 7: '고등어', 8: '게', 9: ['새우'], 10: '돼지고기', 11: '복숭아', 12: '토마토', 13: '아황산류', 14: '호두', 15: ['닭고기', '계육','닭'], 16: ['쇠고기', '우육'], 17: '오징어', 18: '조개류', 19: '잣'}\n",
    "ingredients = '콩, 땅콩 우유, 복훙아 ,달걀, 쇠고기, 찹쌀, 김, 참깨, 옥수수기름(옥배유), 양파, 무, 대파, 천일염, 마늘, 새우, 멸치, 다시마, 건표고버섯, 둥굴레, 감초, 정제수'\n",
    "\n",
    "from konlpy.tag import Okt\n",
    "\n",
    "okt = Okt()\n",
    "words = okt.pos(ingredients)\n",
    "\n",
    "allergy_columns = []\n",
    "\n",
    "for word, tag in words:\n",
    "    if tag == 'Noun':\n",
    "        for allergy_key, allergy_value in allergy_dict.items():\n",
    "            if isinstance(allergy_value, list):\n",
    "                if word in allergy_value:\n",
    "                    allergy_columns.append(allergy_key)\n",
    "                    break\n",
    "            else:\n",
    "                if word == allergy_value:\n",
    "                    allergy_columns.append(allergy_key)\n",
    "                    break\n",
    "\n",
    "print(allergy_columns)"
   ]
  },
  {
   "cell_type": "code",
   "execution_count": 19,
   "metadata": {},
   "outputs": [
    {
     "name": "stdout",
     "output_type": "stream",
     "text": [
      "[]\n"
     ]
    }
   ],
   "source": []
  }
 ],
 "metadata": {
  "kernelspec": {
   "display_name": "Python 3",
   "language": "python",
   "name": "python3"
  },
  "language_info": {
   "codemirror_mode": {
    "name": "ipython",
    "version": 3
   },
   "file_extension": ".py",
   "mimetype": "text/x-python",
   "name": "python",
   "nbconvert_exporter": "python",
   "pygments_lexer": "ipython3",
   "version": "3.10.10"
  },
  "orig_nbformat": 4
 },
 "nbformat": 4,
 "nbformat_minor": 2
}
