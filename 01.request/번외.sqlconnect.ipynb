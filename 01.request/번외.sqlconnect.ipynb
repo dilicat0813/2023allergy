{
 "cells": [
  {
   "cell_type": "code",
   "execution_count": 1,
   "metadata": {},
   "outputs": [
    {
     "name": "stdout",
     "output_type": "stream",
     "text": [
      "Collecting pymysql\n",
      "  Downloading PyMySQL-1.0.3-py3-none-any.whl (43 kB)\n",
      "     ---------------------------------------- 0.0/43.7 kB ? eta -:--:--\n",
      "     ---------------------------------------- 43.7/43.7 kB ? eta 0:00:00\n",
      "Installing collected packages: pymysql\n",
      "Successfully installed pymysql-1.0.3\n"
     ]
    }
   ],
   "source": [
    "!pip install pymysql"
   ]
  },
  {
   "cell_type": "code",
   "execution_count": 2,
   "metadata": {},
   "outputs": [],
   "source": [
    "import pymysql"
   ]
  },
  {
   "cell_type": "code",
   "execution_count": 5,
   "metadata": {},
   "outputs": [],
   "source": [
    "conn = pymysql.connect(host='localhost', user='mkh0813', password ='Mylord100$', db='2023allergy', charset='utf8')"
   ]
  },
  {
   "cell_type": "code",
   "execution_count": null,
   "metadata": {},
   "outputs": [],
   "source": [
    "curs = conn.cursor()\n",
    "sql = 'select * from user'\n",
    "curs.execute(sql)\n",
    "rows = curs.fetchall() "
   ]
  },
  {
   "cell_type": "code",
   "execution_count": null,
   "metadata": {},
   "outputs": [],
   "source": [
    "print(rows)"
   ]
  },
  {
   "cell_type": "code",
   "execution_count": null,
   "metadata": {},
   "outputs": [],
   "source": [
    "# CSV 파일을 읽습니다.\n",
    "csv_data = csv.reader(open('data/data_total.csv'))\n",
    "\n",
    "# 데이터를 MySQL 데이터베이스에 삽입합니다.\n",
    "cursor = conn.cursor()\n",
    "for row in csv_data:\n",
    "    cursor.execute('INSERT INTO table_name(column1, column2, column3) VALUES(%s, %s, %s)', row)\n",
    "conn.commit()\n",
    "\n",
    "# 연결을 닫습니다.\n",
    "cursor.close()\n",
    "conn.close()\n"
   ]
  },
  {
   "cell_type": "code",
   "execution_count": null,
   "metadata": {},
   "outputs": [],
   "source": [
    "import csv\n",
    "import pymysql\n",
    "\n",
    "# MySQL 데이터베이스 연결 정보 입력\n",
    "HOST = 'localhost'\n",
    "USER = 'root'\n",
    "PASSWORD = 'password'\n",
    "DATABASE = 'mydb'\n",
    "\n",
    "# CSV 파일 경로 입력\n",
    "CSV_FILE_PATH = 'data.csv'\n",
    "\n",
    "# CSV 파일을 MySQL 데이터베이스에 업로드\n",
    "try:\n",
    "    # MySQL 데이터베이스 연결\n",
    "    conn = pymysql.connect(host=HOST, user=USER, password=PASSWORD, database=DATABASE)\n",
    "\n",
    "    # 커서 생성\n",
    "    cursor = conn.cursor()\n",
    "\n",
    "    # CSV 파일 열기\n",
    "    with open(CSV_FILE_PATH, 'r') as file:\n",
    "        reader = csv.reader(file)\n",
    "\n",
    "        # 첫 번째 행은 데이터베이스의 컬럼 이름으로 사용하므로 제외\n",
    "        next(reader)\n",
    "\n",
    "        # 각 행을 데이터베이스에 삽입\n",
    "        for row in reader:\n",
    "            sql = f\"INSERT INTO mytable (col1, col2, col3) VALUES ('{row[0]}', '{row[1]}', '{row[2]}')\"\n",
    "            cursor.execute(sql)\n",
    "\n",
    "        # 변경 내용을 커밋\n",
    "        conn.commit()\n",
    "\n",
    "        print('CSV 파일이 MySQL 데이터베이스에 업로드되었습니다.')\n",
    "\n",
    "except Exception as e:\n",
    "    print('MySQL 데이터베이스에 CSV 파일을 업로드하는 동안 오류가 발생했습니다.')\n",
    "    print(e)\n",
    "\n",
    "finally:\n",
    "    # 연결 종료\n",
    "    cursor.close()\n",
    "    conn.close()\n"
   ]
  }
 ],
 "metadata": {
  "kernelspec": {
   "display_name": "Python 3",
   "language": "python",
   "name": "python3"
  },
  "language_info": {
   "codemirror_mode": {
    "name": "ipython",
    "version": 3
   },
   "file_extension": ".py",
   "mimetype": "text/x-python",
   "name": "python",
   "nbconvert_exporter": "python",
   "pygments_lexer": "ipython3",
   "version": "3.10.10"
  },
  "orig_nbformat": 4
 },
 "nbformat": 4,
 "nbformat_minor": 2
}
