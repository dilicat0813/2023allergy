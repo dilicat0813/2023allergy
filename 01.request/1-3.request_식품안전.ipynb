{
 "cells": [
  {
   "cell_type": "code",
   "execution_count": 3,
   "metadata": {},
   "outputs": [],
   "source": [
    "from urllib.request import Request, urlopen\n",
    "from urllib.parse import urlencode, quote_plus\n",
    "import pandas as pd\n",
    "from pandas.io.json import json_normalize\n",
    "import json"
   ]
  },
  {
   "cell_type": "code",
   "execution_count": 6,
   "metadata": {},
   "outputs": [
    {
     "data": {
      "text/plain": [
       "[{'PRDLST_REPORT_NO': '2011001517149',\n",
       "  'PRMS_DT': '20141215',\n",
       "  'LCNS_NO': '20110015171',\n",
       "  'PRDLST_NM': 'GLOBE ULTRA DRY(글로브 울트라 드라이)',\n",
       "  'BSSH_NM': '하이트진로㈜강원공장',\n",
       "  'PRDLST_DCNM': '맥주',\n",
       "  'RAWMTRL_NM': '정제수,글루코아밀라아제,알파아밀라아제,효소제(베타글루카나아제),산도조절제(황산칼슘),이산화탄소,홉(펠렛+즙),전분,맥아'},\n",
       " {'PRDLST_REPORT_NO': '1990045801682',\n",
       "  'PRMS_DT': '20060110',\n",
       "  'LCNS_NO': '19900458016',\n",
       "  'PRDLST_NM': 'NHY 구운어묵',\n",
       "  'BSSH_NM': '명가푸드',\n",
       "  'PRDLST_DCNM': '어묵',\n",
       "  'RAWMTRL_NM': '냉동연육,전분,밀가루,정제염,소르빈산칼륨,글루코노-δ-락톤,L-글루타민산나트륨,설탕'},\n",
       " {'PRDLST_REPORT_NO': '201100151715',\n",
       "  'PRMS_DT': '20130924',\n",
       "  'LCNS_NO': '20110015171',\n",
       "  'PRDLST_NM': 'dry finish d(드라이피니시디)',\n",
       "  'BSSH_NM': '하이트진로㈜강원공장',\n",
       "  'PRDLST_DCNM': '맥주',\n",
       "  'RAWMTRL_NM': '맥아,전분,홉(펠렛+즙),이산화탄소,정제수'},\n",
       " {'PRDLST_REPORT_NO': '1997040105528',\n",
       "  'PRMS_DT': '20020409',\n",
       "  'LCNS_NO': '19970401055',\n",
       "  'PRDLST_NM': '가시오가피 냉면',\n",
       "  'BSSH_NM': '주식회사 금성에프앤비',\n",
       "  'PRDLST_DCNM': '숙면',\n",
       "  'RAWMTRL_NM': '밀가루,정제수,타피오카전분,가시오갈피분말,알카리제,정제염'},\n",
       " {'PRDLST_REPORT_NO': '201800123203',\n",
       "  'PRMS_DT': '20180827',\n",
       "  'LCNS_NO': '20180012320',\n",
       "  'PRDLST_NM': '공주 밀',\n",
       "  'BSSH_NM': '농업회사법인 공주브루어리(주)',\n",
       "  'PRDLST_DCNM': '맥주',\n",
       "  'RAWMTRL_NM': ''}]"
      ]
     },
     "execution_count": 6,
     "metadata": {},
     "output_type": "execute_result"
    }
   ],
   "source": [
    "url = \"http://openapi.foodsafetykorea.go.kr/api/32cb3ef9d10d40e3ad9d/C002/json/1/5\"\n",
    "response = urlopen(url)\n",
    "json_api = response.read().decode(\"utf-8\")\n",
    "json_file = json.loads(json_api)\n",
    "data_list = json_file['C002']['row']\n",
    "data_list"
   ]
  }
 ],
 "metadata": {
  "kernelspec": {
   "display_name": "Python 3",
   "language": "python",
   "name": "python3"
  },
  "language_info": {
   "codemirror_mode": {
    "name": "ipython",
    "version": 3
   },
   "file_extension": ".py",
   "mimetype": "text/x-python",
   "name": "python",
   "nbconvert_exporter": "python",
   "pygments_lexer": "ipython3",
   "version": "3.10.9"
  },
  "orig_nbformat": 4
 },
 "nbformat": 4,
 "nbformat_minor": 2
}
