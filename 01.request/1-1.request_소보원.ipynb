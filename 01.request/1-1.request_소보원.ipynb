{
 "cells": [
  {
   "cell_type": "code",
   "execution_count": 1,
   "metadata": {},
   "outputs": [],
   "source": [
    "from urllib.request import Request, urlopen\n",
    "from urllib.parse import urlencode, quote_plus\n",
    "import pandas as pd\n",
    "from pandas.io.json import json_normalize\n",
    "import json"
   ]
  },
  {
   "cell_type": "code",
   "execution_count": 21,
   "metadata": {},
   "outputs": [
    {
     "name": "stderr",
     "output_type": "stream",
     "text": [
      "C:\\Users\\mkh08\\AppData\\Local\\Temp\\ipykernel_28612\\1348014537.py:10: FutureWarning: pandas.io.json.json_normalize is deprecated, use pandas.json_normalize instead\n",
      "  df = df.append(json_normalize(data_list), ignore_index=True)\n",
      "C:\\Users\\mkh08\\AppData\\Local\\Temp\\ipykernel_28612\\1348014537.py:11: FutureWarning: pandas.io.json.json_normalize is deprecated, use pandas.json_normalize instead\n",
      "  df1 = df1.append(json_normalize(data_list), ignore_index=True)\n"
     ]
    }
   ],
   "source": [
    "#2023sus 1/4\n",
    "df = pd.DataFrame()  # Create an empty DataFrame to store the results\n",
    "df1 = pd.DataFrame() \n",
    "for page in range(1, 243):  # Iterate over all 24126 items (100 items per page, so 242 pages)\n",
    "    url = f\"https://api.odcloud.kr/api/3040719/v1/uddi:d8b66ec2-ab19-47c3-bd6e-883c961885f5?page={page}&perPage=100&returnType=JSON&serviceKey=SDqWmmlSMlsBobBnB0DwlV9IVwFkxNwn42%2BKrK%2F5WMV0AxecYPKMJ2tAurfLvCGOt2hvyBLvi9oG7R%2Bn%2FG4ZUA%3D%3D\"\n",
    "    response = urlopen(url)\n",
    "    json_api = response.read().decode(\"utf-8\")\n",
    "    json_file = json.loads(json_api)\n",
    "    data_list = json_file['data']\n",
    "    df = df.append(json_normalize(data_list), ignore_index=True)\n",
    "    df1 = df1.append(json_normalize(data_list), ignore_index=True)\n",
    "# df_sorted = df.sort_values('접수일', ascending=True)\n",
    "# df_sorted\n",
    "df1.to_csv('data/소보원데이터/알레르기_2023Q1.csv', index=False, encoding='utf-8-sig')\n",
    "df1.to_csv('data/소보원데이터/알레르기_2023Q1_backup.csv', index=False, encoding='utf-8')"
   ]
  },
  {
   "cell_type": "code",
   "execution_count": 22,
   "metadata": {},
   "outputs": [
    {
     "name": "stderr",
     "output_type": "stream",
     "text": [
      "C:\\Users\\mkh08\\AppData\\Local\\Temp\\ipykernel_28612\\1996006333.py:9: FutureWarning: pandas.io.json.json_normalize is deprecated, use pandas.json_normalize instead\n",
      "  df = df.append(json_normalize(data_list), ignore_index=True)\n",
      "C:\\Users\\mkh08\\AppData\\Local\\Temp\\ipykernel_28612\\1996006333.py:10: FutureWarning: pandas.io.json.json_normalize is deprecated, use pandas.json_normalize instead\n",
      "  df1 = df1.append(json_normalize(data_list), ignore_index=True)\n"
     ]
    },
    {
     "name": "stdout",
     "output_type": "stream",
     "text": [
      "189225 12508\n"
     ]
    }
   ],
   "source": [
    "#2022 4/4\n",
    "df1 = pd.DataFrame() \n",
    "for page in range(1, 127):  # Iterate over all 24126 items (100 items per page, so 242 pages)\n",
    "    url = f\"https://api.odcloud.kr/api/3040719/v1/uddi:ae040a91-52c0-4d06-9b8c-e38a849bb4c0?page={page}&perPage=100&serviceKey=SDqWmmlSMlsBobBnB0DwlV9IVwFkxNwn42%2BKrK%2F5WMV0AxecYPKMJ2tAurfLvCGOt2hvyBLvi9oG7R%2Bn%2FG4ZUA%3D%3D\"\n",
    "    response = urlopen(url)\n",
    "    json_api = response.read().decode(\"utf-8\")\n",
    "    json_file = json.loads(json_api)\n",
    "    data_list = json_file['data']\n",
    "    df = df.append(json_normalize(data_list), ignore_index=True)\n",
    "    df1 = df1.append(json_normalize(data_list), ignore_index=True)\n",
    "#12508\n",
    "df1.tail()\n",
    "length = length+len(df1)\n",
    "print(length,len(df1))\n",
    "df1.to_csv('data/소보원데이터/알레르기_2022Q4.csv', index=False, encoding='utf-8-sig')\n",
    "df1.to_csv('data/소보원데이터/알레르기_2022Q4_backup.csv', index=False, encoding='utf-8')"
   ]
  },
  {
   "cell_type": "code",
   "execution_count": 23,
   "metadata": {},
   "outputs": [
    {
     "name": "stderr",
     "output_type": "stream",
     "text": [
      "C:\\Users\\mkh08\\AppData\\Local\\Temp\\ipykernel_28612\\2974269269.py:9: FutureWarning: pandas.io.json.json_normalize is deprecated, use pandas.json_normalize instead\n",
      "  df = df.append(json_normalize(data_list), ignore_index=True)\n",
      "C:\\Users\\mkh08\\AppData\\Local\\Temp\\ipykernel_28612\\2974269269.py:10: FutureWarning: pandas.io.json.json_normalize is deprecated, use pandas.json_normalize instead\n",
      "  df1 = df1.append(json_normalize(data_list), ignore_index=True)\n"
     ]
    },
    {
     "name": "stdout",
     "output_type": "stream",
     "text": [
      "211243 22018\n"
     ]
    }
   ],
   "source": [
    "#2022 3/4\n",
    "df1 = pd.DataFrame()  # Create an empty DataFrame to store the results\n",
    "for page in range(1, 222):  # Iterate over all 24126 items (100 items per page, so 242 pages)\n",
    "    url = f\"https://api.odcloud.kr/api/3040719/v1/uddi:6485a24f-6f78-4f06-a093-da7bb91768cf?page={page}&perPage=100&serviceKey=SDqWmmlSMlsBobBnB0DwlV9IVwFkxNwn42%2BKrK%2F5WMV0AxecYPKMJ2tAurfLvCGOt2hvyBLvi9oG7R%2Bn%2FG4ZUA%3D%3D\"\n",
    "    response = urlopen(url)\n",
    "    json_api = response.read().decode(\"utf-8\")\n",
    "    json_file = json.loads(json_api)\n",
    "    data_list = json_file['data']\n",
    "    df = df.append(json_normalize(data_list), ignore_index=True)\n",
    "    df1 = df1.append(json_normalize(data_list), ignore_index=True)\n",
    "\n",
    "df1.tail()\n",
    "#22018\n",
    "length = length+len(df1)\n",
    "print(length,len(df1))\n",
    "df1.to_csv('data/소보원데이터/알레르기_2022Q3.csv', index=False, encoding='utf-8-sig')\n",
    "df1.to_csv('data/소보원데이터/알레르기_2022Q3_backup.csv', index=False, encoding='utf-8')"
   ]
  },
  {
   "cell_type": "code",
   "execution_count": 24,
   "metadata": {},
   "outputs": [
    {
     "name": "stderr",
     "output_type": "stream",
     "text": [
      "C:\\Users\\mkh08\\AppData\\Local\\Temp\\ipykernel_28612\\883949373.py:9: FutureWarning: pandas.io.json.json_normalize is deprecated, use pandas.json_normalize instead\n",
      "  df = df.append(json_normalize(data_list), ignore_index=True)\n",
      "C:\\Users\\mkh08\\AppData\\Local\\Temp\\ipykernel_28612\\883949373.py:10: FutureWarning: pandas.io.json.json_normalize is deprecated, use pandas.json_normalize instead\n",
      "  df1 = df1.append(json_normalize(data_list), ignore_index=True)\n"
     ]
    },
    {
     "name": "stdout",
     "output_type": "stream",
     "text": [
      "233959 22716\n"
     ]
    }
   ],
   "source": [
    "#2022 2/4\n",
    "df1 = pd.DataFrame()  # Create an empty DataFrame to store the results\n",
    "for page in range(1, 229):  # Iterate over all 24126 items (100 items per page, so 242 pages)\n",
    "    url = f\"https://api.odcloud.kr/api/3040719/v1/uddi:8ec97038-5f23-4c15-a24b-ca7b9cc69f8e?page={page}&perPage=100&serviceKey=SDqWmmlSMlsBobBnB0DwlV9IVwFkxNwn42%2BKrK%2F5WMV0AxecYPKMJ2tAurfLvCGOt2hvyBLvi9oG7R%2Bn%2FG4ZUA%3D%3D\"\n",
    "    response = urlopen(url)\n",
    "    json_api = response.read().decode(\"utf-8\")\n",
    "    json_file = json.loads(json_api)\n",
    "    data_list = json_file['data']\n",
    "    df = df.append(json_normalize(data_list), ignore_index=True)\n",
    "    df1 = df1.append(json_normalize(data_list), ignore_index=True)\n",
    "#22716\n",
    "df1.tail()\n",
    "length = length+len(df1)\n",
    "print(length,len(df1))\n",
    "df1.to_csv('data/소보원데이터/알레르기_2022Q2.csv', index=False, encoding='utf-8-sig')\n",
    "df1.to_csv('data/소보원데이터/알레르기_2022Q2_backup.csv', index=False, encoding='utf-8')"
   ]
  },
  {
   "cell_type": "code",
   "execution_count": 25,
   "metadata": {},
   "outputs": [
    {
     "name": "stderr",
     "output_type": "stream",
     "text": [
      "C:\\Users\\mkh08\\AppData\\Local\\Temp\\ipykernel_28612\\2450305332.py:10: FutureWarning: pandas.io.json.json_normalize is deprecated, use pandas.json_normalize instead\n",
      "  df = df.append(json_normalize(data_list), ignore_index=True)\n",
      "C:\\Users\\mkh08\\AppData\\Local\\Temp\\ipykernel_28612\\2450305332.py:11: FutureWarning: pandas.io.json.json_normalize is deprecated, use pandas.json_normalize instead\n",
      "  df1 = df1.append(json_normalize(data_list), ignore_index=True)\n"
     ]
    },
    {
     "name": "stdout",
     "output_type": "stream",
     "text": [
      "255308 21349\n"
     ]
    }
   ],
   "source": [
    "#2022 1/4\n",
    "df1 = pd.DataFrame()  # Create an empty DataFrame to store the results\n",
    "\n",
    "for page in range(1, 215):  # Iterate over all 24126 items (100 items per page, so 242 pages)\n",
    "    url = f\"https://api.odcloud.kr/api/3040719/v1/uddi:31ac447c-dccd-4db7-998d-edd0136690e7?page={page}&perPage=100&serviceKey=SDqWmmlSMlsBobBnB0DwlV9IVwFkxNwn42%2BKrK%2F5WMV0AxecYPKMJ2tAurfLvCGOt2hvyBLvi9oG7R%2Bn%2FG4ZUA%3D%3D\"\n",
    "    response = urlopen(url)\n",
    "    json_api = response.read().decode(\"utf-8\")\n",
    "    json_file = json.loads(json_api)\n",
    "    data_list = json_file['data']\n",
    "    df = df.append(json_normalize(data_list), ignore_index=True)\n",
    "    df1 = df1.append(json_normalize(data_list), ignore_index=True)\n",
    "#21349\n",
    "df1.tail()\n",
    "length = length+len(df1)\n",
    "print(length,len(df1))\n",
    "df1.to_csv('data/소보원데이터/알레르기_2022Q1.csv', index=False, encoding='utf-8-sig')\n",
    "df1.to_csv('data/소보원데이터/알레르기_2022Q1_backup.csv', index=False, encoding='utf-8')"
   ]
  },
  {
   "cell_type": "code",
   "execution_count": 26,
   "metadata": {},
   "outputs": [
    {
     "name": "stderr",
     "output_type": "stream",
     "text": [
      "C:\\Users\\mkh08\\AppData\\Local\\Temp\\ipykernel_28612\\3589748750.py:10: FutureWarning: pandas.io.json.json_normalize is deprecated, use pandas.json_normalize instead\n",
      "  df = df.append(json_normalize(data_list), ignore_index=True)\n",
      "C:\\Users\\mkh08\\AppData\\Local\\Temp\\ipykernel_28612\\3589748750.py:11: FutureWarning: pandas.io.json.json_normalize is deprecated, use pandas.json_normalize instead\n",
      "  df1 = df1.append(json_normalize(data_list), ignore_index=True)\n"
     ]
    },
    {
     "name": "stdout",
     "output_type": "stream",
     "text": [
      "273950 18642\n"
     ]
    }
   ],
   "source": [
    "#2021 4/4\n",
    "df1 = pd.DataFrame()  # Create an empty DataFrame to store the results\n",
    "#18642\n",
    "for page in range(1, 188):  # Iterate over all 24126 items (100 items per page, so 242 pages)\n",
    "    url = f\"https://api.odcloud.kr/api/3040719/v1/uddi:06685e15-7202-48e2-8611-abb2e43eb820?page={page}&perPage=100&serviceKey=SDqWmmlSMlsBobBnB0DwlV9IVwFkxNwn42%2BKrK%2F5WMV0AxecYPKMJ2tAurfLvCGOt2hvyBLvi9oG7R%2Bn%2FG4ZUA%3D%3D\"\n",
    "    response = urlopen(url)\n",
    "    json_api = response.read().decode(\"utf-8\")\n",
    "    json_file = json.loads(json_api)\n",
    "    data_list = json_file['data']\n",
    "    df = df.append(json_normalize(data_list), ignore_index=True)\n",
    "    df1 = df1.append(json_normalize(data_list), ignore_index=True)\n",
    "df1.tail()\n",
    "length = length+len(df1)\n",
    "print(length,len(df1))\n",
    "df1.to_csv('data/소보원데이터/알레르기_2021Q4.csv', index=False, encoding='utf-8-sig')\n",
    "df1.to_csv('data/소보원데이터/알레르기_2021Q4_backup.csv', index=False, encoding='utf-8')"
   ]
  },
  {
   "cell_type": "code",
   "execution_count": 27,
   "metadata": {},
   "outputs": [
    {
     "name": "stderr",
     "output_type": "stream",
     "text": [
      "C:\\Users\\mkh08\\AppData\\Local\\Temp\\ipykernel_28612\\4269925221.py:10: FutureWarning: pandas.io.json.json_normalize is deprecated, use pandas.json_normalize instead\n",
      "  df = df.append(json_normalize(data_list), ignore_index=True)\n",
      "C:\\Users\\mkh08\\AppData\\Local\\Temp\\ipykernel_28612\\4269925221.py:11: FutureWarning: pandas.io.json.json_normalize is deprecated, use pandas.json_normalize instead\n",
      "  df1 = df1.append(json_normalize(data_list), ignore_index=True)\n"
     ]
    },
    {
     "name": "stdout",
     "output_type": "stream",
     "text": [
      "298768 24818\n"
     ]
    }
   ],
   "source": [
    "#2021 3/4\n",
    "df1 = pd.DataFrame()  # Create an empty DataFrame to store the results\n",
    "#24818\n",
    "for page in range(1, 250):  # Iterate over all 24126 items (100 items per page, so 242 pages)\n",
    "    url = f\"https://api.odcloud.kr/api/3040719/v1/uddi:93fe0df3-2704-4f3a-9455-d0411d9467a6?page={page}&perPage=100&serviceKey=SDqWmmlSMlsBobBnB0DwlV9IVwFkxNwn42%2BKrK%2F5WMV0AxecYPKMJ2tAurfLvCGOt2hvyBLvi9oG7R%2Bn%2FG4ZUA%3D%3D\"\n",
    "    response = urlopen(url)\n",
    "    json_api = response.read().decode(\"utf-8\")\n",
    "    json_file = json.loads(json_api)\n",
    "    data_list = json_file['data']\n",
    "    df = df.append(json_normalize(data_list), ignore_index=True)\n",
    "    df1 = df1.append(json_normalize(data_list), ignore_index=True)\n",
    "df1.tail()\n",
    "length = length+len(df1)\n",
    "print(length,len(df1))\n",
    "df1.to_csv('data/소보원데이터/알레르기_2021Q3.csv', index=False, encoding='utf-8-sig')\n",
    "df1.to_csv('data/소보원데이터/알레르기_2021Q3_backup.csv', index=False, encoding='utf-8')"
   ]
  },
  {
   "cell_type": "code",
   "execution_count": 28,
   "metadata": {},
   "outputs": [
    {
     "name": "stderr",
     "output_type": "stream",
     "text": [
      "C:\\Users\\mkh08\\AppData\\Local\\Temp\\ipykernel_28612\\1628224593.py:10: FutureWarning: pandas.io.json.json_normalize is deprecated, use pandas.json_normalize instead\n",
      "  df = df.append(json_normalize(data_list), ignore_index=True)\n",
      "C:\\Users\\mkh08\\AppData\\Local\\Temp\\ipykernel_28612\\1628224593.py:11: FutureWarning: pandas.io.json.json_normalize is deprecated, use pandas.json_normalize instead\n",
      "  df1 = df1.append(json_normalize(data_list), ignore_index=True)\n"
     ]
    },
    {
     "name": "stdout",
     "output_type": "stream",
     "text": [
      "317853 19085\n"
     ]
    }
   ],
   "source": [
    "#2021 2/4\n",
    "df1 = pd.DataFrame()  # Create an empty DataFrame to store the results\n",
    "#19085 192\n",
    "for page in range(1, 192):  # Iterate over all 24126 items (100 items per page, so 242 pages)\n",
    "    url = f\"https://api.odcloud.kr/api/3040719/v1/uddi:df00cf82-37cd-4bf1-82e7-b4ab1ce51f19?page={page}&perPage=100&serviceKey=SDqWmmlSMlsBobBnB0DwlV9IVwFkxNwn42%2BKrK%2F5WMV0AxecYPKMJ2tAurfLvCGOt2hvyBLvi9oG7R%2Bn%2FG4ZUA%3D%3D\"\n",
    "    response = urlopen(url)\n",
    "    json_api = response.read().decode(\"utf-8\")\n",
    "    json_file = json.loads(json_api)\n",
    "    data_list = json_file['data']\n",
    "    df = df.append(json_normalize(data_list), ignore_index=True)\n",
    "    df1 = df1.append(json_normalize(data_list), ignore_index=True)\n",
    "df1.tail()\n",
    "length = length+len(df1)\n",
    "print(length,len(df1))\n",
    "df1.to_csv('data/소보원데이터/알레르기_2021Q2.csv', index=False, encoding='utf-8-sig')\n",
    "df1.to_csv('data/소보원데이터/알레르기_2021Q2_backup.csv', index=False, encoding='utf-8')"
   ]
  },
  {
   "cell_type": "code",
   "execution_count": 29,
   "metadata": {},
   "outputs": [
    {
     "name": "stderr",
     "output_type": "stream",
     "text": [
      "C:\\Users\\mkh08\\AppData\\Local\\Temp\\ipykernel_28612\\1200875724.py:10: FutureWarning: pandas.io.json.json_normalize is deprecated, use pandas.json_normalize instead\n",
      "  df = df.append(json_normalize(data_list), ignore_index=True)\n",
      "C:\\Users\\mkh08\\AppData\\Local\\Temp\\ipykernel_28612\\1200875724.py:11: FutureWarning: pandas.io.json.json_normalize is deprecated, use pandas.json_normalize instead\n",
      "  df1 = df1.append(json_normalize(data_list), ignore_index=True)\n"
     ]
    },
    {
     "name": "stdout",
     "output_type": "stream",
     "text": [
      "329308 11455\n"
     ]
    }
   ],
   "source": [
    "#2021 1/4\n",
    "df1 = pd.DataFrame()  # Create an empty DataFrame to store the results\n",
    "#11455 116\n",
    "for page in range(1, 116):  # Iterate over all 24126 items (100 items per page, so 242 pages)\n",
    "    url = f\"https://api.odcloud.kr/api/3040719/v1/uddi:836524d6-0ecb-4084-9230-f656bed7a061?page={page}&perPage=100&serviceKey=SDqWmmlSMlsBobBnB0DwlV9IVwFkxNwn42%2BKrK%2F5WMV0AxecYPKMJ2tAurfLvCGOt2hvyBLvi9oG7R%2Bn%2FG4ZUA%3D%3D\"\n",
    "    response = urlopen(url)\n",
    "    json_api = response.read().decode(\"utf-8\")\n",
    "    json_file = json.loads(json_api)\n",
    "    data_list = json_file['data']\n",
    "    df = df.append(json_normalize(data_list), ignore_index=True)\n",
    "    df1 = df1.append(json_normalize(data_list), ignore_index=True)\n",
    "df1.tail()\n",
    "length = length+len(df1)\n",
    "print(length,len(df1))\n",
    "df1.to_csv('data/소보원데이터/알레르기_2021Q1.csv', index=False, encoding='utf-8-sig')\n",
    "df1.to_csv('data/소보원데이터/알레르기_2021Q1_backup.csv', index=False, encoding='utf-8')"
   ]
  },
  {
   "cell_type": "code",
   "execution_count": 11,
   "metadata": {},
   "outputs": [
    {
     "name": "stdout",
     "output_type": "stream",
     "text": [
      "176717\n",
      "176717\n"
     ]
    }
   ],
   "source": [
    "print(length)\n",
    "print(len(df))\n"
   ]
  },
  {
   "cell_type": "code",
   "execution_count": 12,
   "metadata": {},
   "outputs": [],
   "source": [
    "df1.to_csv('알레르기_2021-2023Q1.csv', index=False, encoding='utf-8-sig')\n",
    "df1.to_csv('알레르기_2021-2023Q1_backup.csv', index=False, encoding='utf-8')"
   ]
  },
  {
   "cell_type": "code",
   "execution_count": 89,
   "metadata": {},
   "outputs": [],
   "source": [
    "# df = pd.read_csv('data/소보원데이터/알레르기_2021Q1_backup.csv') #원인 불명 (알레르기 분류가 없음)\n",
    "# df1 = pd.read_csv('data/소보원데이터/알레르기_2021Q2_backup.csv') #원인 불명 (알레르기 분류가 없음)\n",
    "df2 = pd.read_csv('data/소보원데이터/알레르기_2021Q3_backup.csv')\n",
    "df3 = pd.read_csv('data/소보원데이터/알레르기_2021Q4_backup.csv')\n",
    "df4 = pd.read_csv('data/소보원데이터/알레르기_2022Q1_backup.csv')\n",
    "df5 = pd.read_csv('data/소보원데이터/알레르기_2022Q2_backup.csv')\n",
    "df6 = pd.read_csv('data/소보원데이터/알레르기_2022Q3_backup.csv')\n",
    "df7 = pd.read_csv('data/소보원데이터/알레르기_2022Q4_backup.csv')\n",
    "df8 = pd.read_csv('data/소보원데이터/알레르기_2023Q1_backup.csv')"
   ]
  },
  {
   "cell_type": "code",
   "execution_count": 90,
   "metadata": {},
   "outputs": [],
   "source": [
    "df2.drop(columns=['발생일자','발생장소', '접수번호'], axis=1, inplace=True)\n",
    "df3.drop(columns=['발생일자','발생장소', '접수번호'], axis=1, inplace=True)\n",
    "df4.drop(columns=['발생일자','발생장소', '접수번호'], axis=1, inplace=True)\n",
    "df5.drop(columns=['발생일자','발생장소 소분류', '접수번호'], axis=1, inplace=True)\n",
    "df6.drop(columns=['발생일자','발생장소 소분류', '접수번호'], axis=1, inplace=True)\n",
    "df7.drop(columns=['발생일자','발생장소', '접수번호'], axis=1, inplace=True)\n",
    "df8.drop(columns=['발생일자','발생장소', '접수번호'], axis=1, inplace=True)\n"
   ]
  },
  {
   "cell_type": "code",
   "execution_count": 91,
   "metadata": {},
   "outputs": [],
   "source": [
    "df7.rename(columns={'위해증상 (소분류)':'위해증상 소분류'}, inplace=True)\n",
    "df7.rename(columns={'위험 및 위해원인 소분류':'위험및위해원인 소분류'}, inplace=True)\n",
    "df8.rename(columns={'위해증상(소분류)':'위해증상 소분류'}, inplace=True)\n",
    "\n"
   ]
  },
  {
   "cell_type": "code",
   "execution_count": 92,
   "metadata": {},
   "outputs": [
    {
     "data": {
      "text/plain": [
       "위해부위 소분류       0\n",
       "위해자성별          0\n",
       "위해자연령          0\n",
       "위해증상 소분류       0\n",
       "위험및위해원인 소분류    0\n",
       "접수일            0\n",
       "치료기간           0\n",
       "품목대분류          0\n",
       "품목소분류          0\n",
       "품목중분류          0\n",
       "dtype: int64"
      ]
     },
     "execution_count": 92,
     "metadata": {},
     "output_type": "execute_result"
    }
   ],
   "source": [
    "df = pd.concat([df2, df3, df4, df5, df6, df7, df8])\n",
    "df.fillna(\"알수없음\", inplace=True) #성별, 연령\n",
    "df.isnull().sum()"
   ]
  },
  {
   "cell_type": "code",
   "execution_count": 93,
   "metadata": {},
   "outputs": [],
   "source": [
    "df = df[df['위해증상 소분류'].str.contains('알레르기', na=False)]\n",
    "df = df[df['위험및위해원인 소분류'].str.contains('식품', na=False)]\n"
   ]
  },
  {
   "cell_type": "code",
   "execution_count": 96,
   "metadata": {},
   "outputs": [],
   "source": [
    "df['접수일'] = pd.to_datetime(df['접수일']) \n",
    "df['년도'] = df['접수일'].dt.year \n",
    "df['분기'] = df['접수일'].dt.quarter\n",
    "df['년도_분기'] = df['접수일'].dt.year.astype(str) + '-Q' + df['접수일'].dt.quarter.astype(str)  # '년도_분기' 컬럼을 생성하여 년도와 분기를 문자열로 연결하여 저장합니다."
   ]
  },
  {
   "cell_type": "code",
   "execution_count": 130,
   "metadata": {},
   "outputs": [
    {
     "data": {
      "application/vnd.plotly.v1+json": {
       "config": {
        "plotlyServerURL": "https://plot.ly"
       },
       "data": [
        {
         "hovertemplate": "년도_분기=%{x}<br>count=%{text}<extra></extra>",
         "legendgroup": "",
         "line": {
          "color": "#636efa",
          "dash": "solid"
         },
         "marker": {
          "symbol": "circle"
         },
         "mode": "markers+text+lines",
         "name": "",
         "orientation": "v",
         "showlegend": false,
         "text": [
          11,
          21,
          17,
          31,
          36,
          22,
          50
         ],
         "textposition": "top center",
         "type": "scatter",
         "x": [
          "2021-Q3",
          "2021-Q4",
          "2022-Q1",
          "2022-Q2",
          "2022-Q3",
          "2022-Q4",
          "2023-Q1"
         ],
         "xaxis": "x",
         "y": [
          11,
          21,
          17,
          31,
          36,
          22,
          50
         ],
         "yaxis": "y"
        }
       ],
       "layout": {
        "legend": {
         "tracegroupgap": 0
        },
        "margin": {
         "t": 60
        },
        "template": {
         "data": {
          "bar": [
           {
            "error_x": {
             "color": "#2a3f5f"
            },
            "error_y": {
             "color": "#2a3f5f"
            },
            "marker": {
             "line": {
              "color": "#E5ECF6",
              "width": 0.5
             },
             "pattern": {
              "fillmode": "overlay",
              "size": 10,
              "solidity": 0.2
             }
            },
            "type": "bar"
           }
          ],
          "barpolar": [
           {
            "marker": {
             "line": {
              "color": "#E5ECF6",
              "width": 0.5
             },
             "pattern": {
              "fillmode": "overlay",
              "size": 10,
              "solidity": 0.2
             }
            },
            "type": "barpolar"
           }
          ],
          "carpet": [
           {
            "aaxis": {
             "endlinecolor": "#2a3f5f",
             "gridcolor": "white",
             "linecolor": "white",
             "minorgridcolor": "white",
             "startlinecolor": "#2a3f5f"
            },
            "baxis": {
             "endlinecolor": "#2a3f5f",
             "gridcolor": "white",
             "linecolor": "white",
             "minorgridcolor": "white",
             "startlinecolor": "#2a3f5f"
            },
            "type": "carpet"
           }
          ],
          "choropleth": [
           {
            "colorbar": {
             "outlinewidth": 0,
             "ticks": ""
            },
            "type": "choropleth"
           }
          ],
          "contour": [
           {
            "colorbar": {
             "outlinewidth": 0,
             "ticks": ""
            },
            "colorscale": [
             [
              0,
              "#0d0887"
             ],
             [
              0.1111111111111111,
              "#46039f"
             ],
             [
              0.2222222222222222,
              "#7201a8"
             ],
             [
              0.3333333333333333,
              "#9c179e"
             ],
             [
              0.4444444444444444,
              "#bd3786"
             ],
             [
              0.5555555555555556,
              "#d8576b"
             ],
             [
              0.6666666666666666,
              "#ed7953"
             ],
             [
              0.7777777777777778,
              "#fb9f3a"
             ],
             [
              0.8888888888888888,
              "#fdca26"
             ],
             [
              1,
              "#f0f921"
             ]
            ],
            "type": "contour"
           }
          ],
          "contourcarpet": [
           {
            "colorbar": {
             "outlinewidth": 0,
             "ticks": ""
            },
            "type": "contourcarpet"
           }
          ],
          "heatmap": [
           {
            "colorbar": {
             "outlinewidth": 0,
             "ticks": ""
            },
            "colorscale": [
             [
              0,
              "#0d0887"
             ],
             [
              0.1111111111111111,
              "#46039f"
             ],
             [
              0.2222222222222222,
              "#7201a8"
             ],
             [
              0.3333333333333333,
              "#9c179e"
             ],
             [
              0.4444444444444444,
              "#bd3786"
             ],
             [
              0.5555555555555556,
              "#d8576b"
             ],
             [
              0.6666666666666666,
              "#ed7953"
             ],
             [
              0.7777777777777778,
              "#fb9f3a"
             ],
             [
              0.8888888888888888,
              "#fdca26"
             ],
             [
              1,
              "#f0f921"
             ]
            ],
            "type": "heatmap"
           }
          ],
          "heatmapgl": [
           {
            "colorbar": {
             "outlinewidth": 0,
             "ticks": ""
            },
            "colorscale": [
             [
              0,
              "#0d0887"
             ],
             [
              0.1111111111111111,
              "#46039f"
             ],
             [
              0.2222222222222222,
              "#7201a8"
             ],
             [
              0.3333333333333333,
              "#9c179e"
             ],
             [
              0.4444444444444444,
              "#bd3786"
             ],
             [
              0.5555555555555556,
              "#d8576b"
             ],
             [
              0.6666666666666666,
              "#ed7953"
             ],
             [
              0.7777777777777778,
              "#fb9f3a"
             ],
             [
              0.8888888888888888,
              "#fdca26"
             ],
             [
              1,
              "#f0f921"
             ]
            ],
            "type": "heatmapgl"
           }
          ],
          "histogram": [
           {
            "marker": {
             "pattern": {
              "fillmode": "overlay",
              "size": 10,
              "solidity": 0.2
             }
            },
            "type": "histogram"
           }
          ],
          "histogram2d": [
           {
            "colorbar": {
             "outlinewidth": 0,
             "ticks": ""
            },
            "colorscale": [
             [
              0,
              "#0d0887"
             ],
             [
              0.1111111111111111,
              "#46039f"
             ],
             [
              0.2222222222222222,
              "#7201a8"
             ],
             [
              0.3333333333333333,
              "#9c179e"
             ],
             [
              0.4444444444444444,
              "#bd3786"
             ],
             [
              0.5555555555555556,
              "#d8576b"
             ],
             [
              0.6666666666666666,
              "#ed7953"
             ],
             [
              0.7777777777777778,
              "#fb9f3a"
             ],
             [
              0.8888888888888888,
              "#fdca26"
             ],
             [
              1,
              "#f0f921"
             ]
            ],
            "type": "histogram2d"
           }
          ],
          "histogram2dcontour": [
           {
            "colorbar": {
             "outlinewidth": 0,
             "ticks": ""
            },
            "colorscale": [
             [
              0,
              "#0d0887"
             ],
             [
              0.1111111111111111,
              "#46039f"
             ],
             [
              0.2222222222222222,
              "#7201a8"
             ],
             [
              0.3333333333333333,
              "#9c179e"
             ],
             [
              0.4444444444444444,
              "#bd3786"
             ],
             [
              0.5555555555555556,
              "#d8576b"
             ],
             [
              0.6666666666666666,
              "#ed7953"
             ],
             [
              0.7777777777777778,
              "#fb9f3a"
             ],
             [
              0.8888888888888888,
              "#fdca26"
             ],
             [
              1,
              "#f0f921"
             ]
            ],
            "type": "histogram2dcontour"
           }
          ],
          "mesh3d": [
           {
            "colorbar": {
             "outlinewidth": 0,
             "ticks": ""
            },
            "type": "mesh3d"
           }
          ],
          "parcoords": [
           {
            "line": {
             "colorbar": {
              "outlinewidth": 0,
              "ticks": ""
             }
            },
            "type": "parcoords"
           }
          ],
          "pie": [
           {
            "automargin": true,
            "type": "pie"
           }
          ],
          "scatter": [
           {
            "fillpattern": {
             "fillmode": "overlay",
             "size": 10,
             "solidity": 0.2
            },
            "type": "scatter"
           }
          ],
          "scatter3d": [
           {
            "line": {
             "colorbar": {
              "outlinewidth": 0,
              "ticks": ""
             }
            },
            "marker": {
             "colorbar": {
              "outlinewidth": 0,
              "ticks": ""
             }
            },
            "type": "scatter3d"
           }
          ],
          "scattercarpet": [
           {
            "marker": {
             "colorbar": {
              "outlinewidth": 0,
              "ticks": ""
             }
            },
            "type": "scattercarpet"
           }
          ],
          "scattergeo": [
           {
            "marker": {
             "colorbar": {
              "outlinewidth": 0,
              "ticks": ""
             }
            },
            "type": "scattergeo"
           }
          ],
          "scattergl": [
           {
            "marker": {
             "colorbar": {
              "outlinewidth": 0,
              "ticks": ""
             }
            },
            "type": "scattergl"
           }
          ],
          "scattermapbox": [
           {
            "marker": {
             "colorbar": {
              "outlinewidth": 0,
              "ticks": ""
             }
            },
            "type": "scattermapbox"
           }
          ],
          "scatterpolar": [
           {
            "marker": {
             "colorbar": {
              "outlinewidth": 0,
              "ticks": ""
             }
            },
            "type": "scatterpolar"
           }
          ],
          "scatterpolargl": [
           {
            "marker": {
             "colorbar": {
              "outlinewidth": 0,
              "ticks": ""
             }
            },
            "type": "scatterpolargl"
           }
          ],
          "scatterternary": [
           {
            "marker": {
             "colorbar": {
              "outlinewidth": 0,
              "ticks": ""
             }
            },
            "type": "scatterternary"
           }
          ],
          "surface": [
           {
            "colorbar": {
             "outlinewidth": 0,
             "ticks": ""
            },
            "colorscale": [
             [
              0,
              "#0d0887"
             ],
             [
              0.1111111111111111,
              "#46039f"
             ],
             [
              0.2222222222222222,
              "#7201a8"
             ],
             [
              0.3333333333333333,
              "#9c179e"
             ],
             [
              0.4444444444444444,
              "#bd3786"
             ],
             [
              0.5555555555555556,
              "#d8576b"
             ],
             [
              0.6666666666666666,
              "#ed7953"
             ],
             [
              0.7777777777777778,
              "#fb9f3a"
             ],
             [
              0.8888888888888888,
              "#fdca26"
             ],
             [
              1,
              "#f0f921"
             ]
            ],
            "type": "surface"
           }
          ],
          "table": [
           {
            "cells": {
             "fill": {
              "color": "#EBF0F8"
             },
             "line": {
              "color": "white"
             }
            },
            "header": {
             "fill": {
              "color": "#C8D4E3"
             },
             "line": {
              "color": "white"
             }
            },
            "type": "table"
           }
          ]
         },
         "layout": {
          "annotationdefaults": {
           "arrowcolor": "#2a3f5f",
           "arrowhead": 0,
           "arrowwidth": 1
          },
          "autotypenumbers": "strict",
          "coloraxis": {
           "colorbar": {
            "outlinewidth": 0,
            "ticks": ""
           }
          },
          "colorscale": {
           "diverging": [
            [
             0,
             "#8e0152"
            ],
            [
             0.1,
             "#c51b7d"
            ],
            [
             0.2,
             "#de77ae"
            ],
            [
             0.3,
             "#f1b6da"
            ],
            [
             0.4,
             "#fde0ef"
            ],
            [
             0.5,
             "#f7f7f7"
            ],
            [
             0.6,
             "#e6f5d0"
            ],
            [
             0.7,
             "#b8e186"
            ],
            [
             0.8,
             "#7fbc41"
            ],
            [
             0.9,
             "#4d9221"
            ],
            [
             1,
             "#276419"
            ]
           ],
           "sequential": [
            [
             0,
             "#0d0887"
            ],
            [
             0.1111111111111111,
             "#46039f"
            ],
            [
             0.2222222222222222,
             "#7201a8"
            ],
            [
             0.3333333333333333,
             "#9c179e"
            ],
            [
             0.4444444444444444,
             "#bd3786"
            ],
            [
             0.5555555555555556,
             "#d8576b"
            ],
            [
             0.6666666666666666,
             "#ed7953"
            ],
            [
             0.7777777777777778,
             "#fb9f3a"
            ],
            [
             0.8888888888888888,
             "#fdca26"
            ],
            [
             1,
             "#f0f921"
            ]
           ],
           "sequentialminus": [
            [
             0,
             "#0d0887"
            ],
            [
             0.1111111111111111,
             "#46039f"
            ],
            [
             0.2222222222222222,
             "#7201a8"
            ],
            [
             0.3333333333333333,
             "#9c179e"
            ],
            [
             0.4444444444444444,
             "#bd3786"
            ],
            [
             0.5555555555555556,
             "#d8576b"
            ],
            [
             0.6666666666666666,
             "#ed7953"
            ],
            [
             0.7777777777777778,
             "#fb9f3a"
            ],
            [
             0.8888888888888888,
             "#fdca26"
            ],
            [
             1,
             "#f0f921"
            ]
           ]
          },
          "colorway": [
           "#636efa",
           "#EF553B",
           "#00cc96",
           "#ab63fa",
           "#FFA15A",
           "#19d3f3",
           "#FF6692",
           "#B6E880",
           "#FF97FF",
           "#FECB52"
          ],
          "font": {
           "color": "#2a3f5f"
          },
          "geo": {
           "bgcolor": "white",
           "lakecolor": "white",
           "landcolor": "#E5ECF6",
           "showlakes": true,
           "showland": true,
           "subunitcolor": "white"
          },
          "hoverlabel": {
           "align": "left"
          },
          "hovermode": "closest",
          "mapbox": {
           "style": "light"
          },
          "paper_bgcolor": "white",
          "plot_bgcolor": "#E5ECF6",
          "polar": {
           "angularaxis": {
            "gridcolor": "white",
            "linecolor": "white",
            "ticks": ""
           },
           "bgcolor": "#E5ECF6",
           "radialaxis": {
            "gridcolor": "white",
            "linecolor": "white",
            "ticks": ""
           }
          },
          "scene": {
           "xaxis": {
            "backgroundcolor": "#E5ECF6",
            "gridcolor": "white",
            "gridwidth": 2,
            "linecolor": "white",
            "showbackground": true,
            "ticks": "",
            "zerolinecolor": "white"
           },
           "yaxis": {
            "backgroundcolor": "#E5ECF6",
            "gridcolor": "white",
            "gridwidth": 2,
            "linecolor": "white",
            "showbackground": true,
            "ticks": "",
            "zerolinecolor": "white"
           },
           "zaxis": {
            "backgroundcolor": "#E5ECF6",
            "gridcolor": "white",
            "gridwidth": 2,
            "linecolor": "white",
            "showbackground": true,
            "ticks": "",
            "zerolinecolor": "white"
           }
          },
          "shapedefaults": {
           "line": {
            "color": "#2a3f5f"
           }
          },
          "ternary": {
           "aaxis": {
            "gridcolor": "white",
            "linecolor": "white",
            "ticks": ""
           },
           "baxis": {
            "gridcolor": "white",
            "linecolor": "white",
            "ticks": ""
           },
           "bgcolor": "#E5ECF6",
           "caxis": {
            "gridcolor": "white",
            "linecolor": "white",
            "ticks": ""
           }
          },
          "title": {
           "x": 0.05
          },
          "xaxis": {
           "automargin": true,
           "gridcolor": "white",
           "linecolor": "white",
           "ticks": "",
           "title": {
            "standoff": 15
           },
           "zerolinecolor": "white",
           "zerolinewidth": 2
          },
          "yaxis": {
           "automargin": true,
           "gridcolor": "white",
           "linecolor": "white",
           "ticks": "",
           "title": {
            "standoff": 15
           },
           "zerolinecolor": "white",
           "zerolinewidth": 2
          }
         }
        },
        "xaxis": {
         "anchor": "y",
         "domain": [
          0,
          1
         ],
         "title": {
          "text": "년도-분기"
         }
        },
        "yaxis": {
         "anchor": "x",
         "domain": [
          0,
          1
         ],
         "title": {
          "text": "신고 건수"
         }
        }
       }
      }
     },
     "metadata": {},
     "output_type": "display_data"
    }
   ],
   "source": [
    "import plotly.express as px\n",
    "import plotly.graph_objects as go\n",
    "\n",
    "df_reset = df_groupby.reset_index()\n",
    "fig = px.line(df_reset, x='년도_분기', y='count', text=\"count\")\n",
    "fig.update_traces(textposition=\"top center\")\n",
    "fig.update_layout(\n",
    "    xaxis_title=\"년도-분기\",\n",
    "    yaxis_title=\"신고 건수\",\n",
    "    )\n",
    "\n",
    "\n",
    "fig.show()"
   ]
  }
 ],
 "metadata": {
  "kernelspec": {
   "display_name": "Python 3",
   "language": "python",
   "name": "python3"
  },
  "language_info": {
   "codemirror_mode": {
    "name": "ipython",
    "version": 3
   },
   "file_extension": ".py",
   "mimetype": "text/x-python",
   "name": "python",
   "nbconvert_exporter": "python",
   "pygments_lexer": "ipython3",
   "version": "3.10.10"
  },
  "orig_nbformat": 4
 },
 "nbformat": 4,
 "nbformat_minor": 2
}
